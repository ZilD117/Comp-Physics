{
 "cells": [
  {
   "cell_type": "code",
   "execution_count": null,
   "id": "0cf0505a-9ca4-4e8e-8ae1-8e440e31968f",
   "metadata": {},
   "outputs": [],
   "source": [
    "# Julia set"
   ]
  },
  {
   "cell_type": "code",
   "execution_count": 57,
   "id": "a46ce3cf-9662-4ad5-99d7-c327fbdfd6b8",
   "metadata": {},
   "outputs": [],
   "source": [
    "import numpy as np, matplotlib.pyplot as plt\n",
    "\n",
    "# Initial values\n",
    "xrange = [-5, 5]\n",
    "yrange = [-5, 5]\n",
    "n = 128      \n",
    "#points = np.zeros((n, n))\n",
    "zmax = 1000\n",
    "itmax = 100\n",
    "c = complex(0, 0)\n",
    "\n",
    "def absCom(z):\n",
    "    return np.sqrt((z.real**2) + (z.imag**2))\n",
    "\n",
    "def isInSet(z, c):\n",
    "    belowMax = True\n",
    "    it = 0\n",
    "    \n",
    "    while belowMax and it < itmax:\n",
    "        z = (z**2)+c\n",
    "        belowMax = absCom(z) < zmax\n",
    "        it += 1\n",
    "\n",
    "    return it\n",
    "    \n",
    "    #if absCom(z) > zmax:\n",
    "    #    return False\n",
    "    #elif it > itmax:\n",
    "    #    return True\n",
    "    #else:\n",
    "        #return isInSet((z**2)+c, c, i+1)"
   ]
  },
  {
   "cell_type": "code",
   "execution_count": 58,
   "id": "f027dcea-2b74-4b86-884c-df17e402827f",
   "metadata": {},
   "outputs": [],
   "source": [
    "xpoints = np.zeros(n**2)\n",
    "ypoints = np.zeros(n**2) \n",
    "\n",
    "# Create lines along x and y axes\n",
    "# These are the dimensions of the rectangular region to examine\n",
    "dx = np.linspace(xrange[0], xrange[1], n)\n",
    "dy = np.linspace(yrange[0], yrange[1], n)\n",
    "\n",
    "# Create evenly spaced points across surface of rectangular region to test\n",
    "for i in range (0, n):\n",
    "    for j in range (0, n):\n",
    "        #points[i*n][j] = complex(xrange[0] + i*dx[i], yrange[0] + j*dy[j])\n",
    "        xpoints[n*i + j] = dx[i]\n",
    "        ypoints[n*i + j] = dy[j]"
   ]
  },
  {
   "cell_type": "code",
   "execution_count": 59,
   "id": "4b363da7-d315-473c-a963-c4e62dba9e13",
   "metadata": {},
   "outputs": [],
   "source": [
    "julia = np.zeros(n**2)\n",
    "\n",
    "for i in range(0, n**2):\n",
    "    z = complex(xpoints[i], ypoints[i])\n",
    "    julia[i] = isInSet(z, c)"
   ]
  },
  {
   "cell_type": "code",
   "execution_count": 56,
   "id": "78d107d4-b97f-49fe-8fd1-335d1392f536",
   "metadata": {},
   "outputs": [
    {
     "data": {
      "image/png": "[encoded data removed]",
      "text/plain": [
       "<Figure size 640x480 with 1 Axes>"
      ]
     },
     "metadata": {},
     "output_type": "display_data"
    }
   ],
   "source": [
    "for i in range (0, n**2):\n",
    "    if julia[i] == 100:\n",
    "        plt.plot(xpoints[i], ypoints[i], marker='o', c='black')\n",
    "    elif julia[i] > 6:\n",
    "        plt.plot(xpoints[i], ypoints[i], marker='o', c='red')\n",
    "    elif julia[i] <= 6 and julia[i] > 4:\n",
    "        plt.plot(xpoints[i], ypoints[i], marker='o', c='orange')\n",
    "    elif julia[i] == 4:\n",
    "        plt.plot(xpoints[i], ypoints[i], marker='o', c='yellow')\n",
    "    elif julia[i] == 3:\n",
    "        plt.plot(xpoints[i], ypoints[i], marker='o', c='green')\n",
    "    elif julia[i] == 2:\n",
    "        plt.plot(xpoints[i], ypoints[i], marker='o', c='blue')\n",
    "    elif julia[i] == 1:\n",
    "        plt.plot(xpoints[i], ypoints[i], marker='o', c='black')\n",
    "\n",
    "plt.show()"
   ]
  },
  {
   "cell_type": "code",
   "execution_count": null,
   "id": "77fda7a5-333e-4b88-9071-ef1179a03039",
   "metadata": {},
   "outputs": [],
   "source": []
  }
 ],
 "metadata": {
  "kernelspec": {
   "display_name": "Python 3 (ipykernel)",
   "language": "python",
   "name": "python3"
  },
  "language_info": {
   "codemirror_mode": {
    "name": "ipython",
    "version": 3
   },
   "file_extension": ".py",
   "mimetype": "text/x-python",
   "name": "python",
   "nbconvert_exporter": "python",
   "pygments_lexer": "ipython3",
   "version": "3.11.5"
  }
 },
 "nbformat": 4,
 "nbformat_minor": 5
}
