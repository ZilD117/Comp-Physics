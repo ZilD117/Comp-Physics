{
 "cells": [
  {
   "cell_type": "markdown",
   "id": "dc47ad21",
   "metadata": {},
   "source": [
    "## Diffusion equation"
   ]
  },
  {
   "cell_type": "markdown",
   "id": "bc5ca249",
   "metadata": {},
   "source": [
    "The initial-boundary value problem for 1D diffusion\n",
    "To obtain a unique solution of the diffusion equation, or equivalently, to apply numerical methods, we need initial and boundary conditions. The diffusion equation goes with one initial condition $ u(x, 0)=I(x) $, where $ I $ is a prescribed function. One boundary condition is required at each point on the boundary, which in 1D means that $u$ must be known, $ u_{x} $ must be known, or some combination of them.\n",
    "\n",
    "We shall start with the simplest boundary condition: $ u=0 $. The complete initial-boundary value diffusion problem in one space dimension can then be specified as\n",
    "\\begin{equation}\n",
    "\\begin{array}{c}\n",
    "\\frac{\\partial u}{\\partial t}=\\alpha \\frac{\\partial^{2} u}{\\partial x^{2}}+f, \\quad x \\in(0, L), t \\in(0, T] \\\\\n",
    "u(x, 0)=I(x), \\quad x \\in[0, L] \\\\\n",
    "u(0, t)=0, \\quad t>0, \\\\\n",
    "u(L, t)=0, \\quad t>0 .\n",
    "\\end{array}\n",
    "\\end{equation}\n",
    "With only a first-order derivative in time, only one initial condition is needed, while the second-order derivative in space leads to a demand for two boundary conditions. We have added a source term $ f=f(x, t) $, which is convenient when testing implementations.\n",
    "\n",
    "Diffusion equations have a wide range of applications throughout physical, biological, and financial sciences. One of the most common applications is propagation of heat, where $ u(x, t) $ represents the temperature of some substance at point $ x $ and time $ t $. \n",
    "\n",
    "The first step in the discretization procedure is to replace the domain $ [0, L] \\times[0, T] $ by a set of mesh points. Here we apply equally spaced mesh points\n",
    "\\begin{equation}\n",
    "x_{i}=i \\Delta x, \\quad i=0, \\ldots, N_{x},\n",
    "\\end{equation}\n",
    "and\n",
    "\\begin{equation}\n",
    "t_{n}=n \\Delta t, \\quad n=0, \\ldots, N_{t} .\n",
    "\\end{equation}\n",
    "Moreover, $ u_{i}^{n} $ denotes the mesh function that approximates $ u\\left(x_{i}, t_{n}\\right) $ for $ i=0, \\ldots, N_{x} $ and $ n=0, \\ldots, N_{t} $. Requiring the PDE to be fulfilled at a mesh point $ \\left(x_{i}, t_{n}\\right) $ leads to the equation\n",
    "\\begin{equation}\n",
    "\\frac{\\partial}{\\partial t} u\\left(x_{i}, t_{n}\\right)=\\alpha \\frac{\\partial^{2}}{\\partial x^{2}} u\\left(x_{i}, t_{n}\\right)+f\\left(x_{i}, t_{n}\\right),\n",
    "\\end{equation}\n",
    "The next step is to replace the derivatives by finite difference approximations. The computationally simplest method arises from using a forward difference in time and a central difference in space:\n",
    "\n",
    "\\begin{equation}\n",
    "\\frac{u_{i}^{n+1}-u_{i}^{n}}{\\Delta t}=\\alpha \\frac{u_{i+1}^{n}-2 u_{i}^{n}+u_{i-1}^{n}}{\\Delta x^{2}}+f_{i}^{n} .\n",
    "\\end{equation}\n",
    "We have turned the PDE into algebraic equations, also often called discrete equations. The key property of the equations is that they are algebraic, which makes them easy to solve. As usual, we anticipate that $ u_{i}^{n} $ is already computed such that $ u_{i}^{n+1} $ is the only unknown. Solving with respect to this unknown is easy:\n",
    "\\begin{equation}\n",
    "u_{i}^{n+1}=u_{i}^{n}+F\\left(u_{i+1}^{n}-2 u_{i}^{n}+u_{i-1}^{n}\\right)+\\Delta t f_{i}^{n},\n",
    "\\end{equation}\n",
    "where we have introduced the mesh Fourier number:\n",
    "\\begin{equation}\n",
    "F=\\alpha \\frac{\\Delta t}{\\Delta x^{2}}\n",
    "\\end{equation}"
   ]
  },
  {
   "cell_type": "code",
   "execution_count": 2,
   "id": "80a9bb4c",
   "metadata": {},
   "outputs": [
    {
     "ename": "NameError",
     "evalue": "name 'Nx' is not defined",
     "output_type": "error",
     "traceback": [
      "\u001b[0;31m---------------------------------------------------------------------------\u001b[0m",
      "\u001b[0;31mNameError\u001b[0m                                 Traceback (most recent call last)",
      "\u001b[0;32m/tmp/ipykernel_329449/1167509228.py\u001b[0m in \u001b[0;36m<module>\u001b[0;34m\u001b[0m\n\u001b[0;32m----> 1\u001b[0;31m \u001b[0;32mfor\u001b[0m \u001b[0mi\u001b[0m \u001b[0;32min\u001b[0m \u001b[0mrange\u001b[0m\u001b[0;34m(\u001b[0m\u001b[0;36m1\u001b[0m\u001b[0;34m,\u001b[0m \u001b[0mNx\u001b[0m\u001b[0;34m)\u001b[0m\u001b[0;34m:\u001b[0m\u001b[0;34m\u001b[0m\u001b[0;34m\u001b[0m\u001b[0m\n\u001b[0m\u001b[1;32m      2\u001b[0m     \u001b[0mu\u001b[0m\u001b[0;34m[\u001b[0m\u001b[0mi\u001b[0m\u001b[0;34m]\u001b[0m \u001b[0;34m=\u001b[0m \u001b[0mu_n\u001b[0m\u001b[0;34m[\u001b[0m\u001b[0mi\u001b[0m\u001b[0;34m]\u001b[0m \u001b[0;34m+\u001b[0m \u001b[0mF\u001b[0m\u001b[0;34m*\u001b[0m\u001b[0;34m(\u001b[0m\u001b[0mu_n\u001b[0m\u001b[0;34m[\u001b[0m\u001b[0mi\u001b[0m\u001b[0;34m-\u001b[0m\u001b[0;36m1\u001b[0m\u001b[0;34m]\u001b[0m \u001b[0;34m-\u001b[0m \u001b[0;36m2\u001b[0m\u001b[0;34m*\u001b[0m\u001b[0mu_n\u001b[0m\u001b[0;34m[\u001b[0m\u001b[0mi\u001b[0m\u001b[0;34m]\u001b[0m \u001b[0;34m+\u001b[0m \u001b[0mu_n\u001b[0m\u001b[0;34m[\u001b[0m\u001b[0mi\u001b[0m\u001b[0;34m+\u001b[0m\u001b[0;36m1\u001b[0m\u001b[0;34m]\u001b[0m\u001b[0;34m)\u001b[0m\u001b[0;31m \u001b[0m\u001b[0;31m\\\u001b[0m\u001b[0;34m\u001b[0m\u001b[0;34m\u001b[0m\u001b[0m\n\u001b[1;32m      3\u001b[0m            \u001b[0;34m+\u001b[0m \u001b[0mdt\u001b[0m\u001b[0;34m*\u001b[0m\u001b[0mf\u001b[0m\u001b[0;34m(\u001b[0m\u001b[0mx\u001b[0m\u001b[0;34m[\u001b[0m\u001b[0mi\u001b[0m\u001b[0;34m]\u001b[0m\u001b[0;34m,\u001b[0m \u001b[0mt\u001b[0m\u001b[0;34m[\u001b[0m\u001b[0mn\u001b[0m\u001b[0;34m]\u001b[0m\u001b[0;34m)\u001b[0m\u001b[0;34m\u001b[0m\u001b[0;34m\u001b[0m\u001b[0m\n\u001b[1;32m      4\u001b[0m \u001b[0;34m\u001b[0m\u001b[0m\n\u001b[1;32m      5\u001b[0m     \u001b[0;31m# Faster version (much faster)\u001b[0m\u001b[0;34m\u001b[0m\u001b[0;34m\u001b[0m\u001b[0m\n",
      "\u001b[0;31mNameError\u001b[0m: name 'Nx' is not defined"
     ]
    }
   ],
   "source": [
    "\n",
    "\n",
    "for i in range(1, Nx):\n",
    "    u[i] = u_n[i] + F*(u_n[i-1] - 2*u_n[i] + u_n[i+1]) \\\n",
    "           + dt*f(x[i], t[n])\n",
    "\n",
    "    # Faster version (much faster)\n",
    "\n",
    "u[1:Nx] = u_n[1:Nx] + F*(u_n[0:Nx-1] - 2*u_n[1:Nx] + u_n[2:Nx+1]) \\\n",
    "          + dt*f(x[1:Nx], t[n])\n",
    "# or\n",
    "u[1:-1] = u_n[1:-1] + F*(u_n[0:-2] - 2*u_n[1:-1] + u_n[2:]) \\\n",
    "          + dt*f(x[1:-1], t[n])"
   ]
  },
  {
   "cell_type": "markdown",
   "id": "51f17f7a",
   "metadata": {},
   "source": [
    "Use the spatial domain $ [0, L] $, with boundary conditions $ u(0)=u(1)=0 $. Two initial conditions will be tested: a discontinuous plug,\n",
    "\\\\begin{equation}\n",
    "I(x)=\\left\\{\\begin{array}{ll}\n",
    "0, & |x-L / 2|>0.1 \\\\\n",
    "1, & \\text { otherwise }\n",
    "\\end{array}\\right.\n",
    "\\end{equation}\n",
    "and a smooth Gaussian function,\n",
    "\\begin{equation}\n",
    "I(x)=e^{-\\frac{1}{2 \\sigma^{2}}(x-L / 2)^{2}} .\n",
    "\\end{equation}"
   ]
  },
  {
   "cell_type": "code",
   "execution_count": null,
   "id": "629a3469",
   "metadata": {},
   "outputs": [],
   "source": []
  }
 ],
 "metadata": {
  "kernelspec": {
   "display_name": "Python 3 (ipykernel)",
   "language": "python",
   "name": "python3"
  },
  "language_info": {
   "codemirror_mode": {
    "name": "ipython",
    "version": 3
   },
   "file_extension": ".py",
   "mimetype": "text/x-python",
   "name": "python",
   "nbconvert_exporter": "python",
   "pygments_lexer": "ipython3",
   "version": "3.10.12"
  }
 },
 "nbformat": 4,
 "nbformat_minor": 5
}
