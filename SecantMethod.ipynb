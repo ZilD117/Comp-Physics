{
 "cells": [
  {
   "cell_type": "code",
   "execution_count": null,
   "metadata": {},
   "outputs": [],
   "source": [
    "# Secant method of finding roots"
   ]
  },
  {
   "cell_type": "code",
   "execution_count": 34,
   "metadata": {},
   "outputs": [],
   "source": [
    "import numpy as np, matplotlib.pylab as plt\n",
    "\n",
    "# Initial conditions\n",
    "x1 = 4\n",
    "x0 = -5\n",
    "tolerance = 1e-8\n",
    "stepCount = 1\n",
    "\n",
    "# Desired function\n",
    "def f(x):\n",
    "    return np.cos(x) - (x**3)\n",
    "\n",
    "# Determines wether the secant root is within tolerance\n",
    "# of the actual root.\n",
    "def isInTolerance(x, tolerance):\n",
    "    return abs(f(x)) <= tolerance\n",
    "\n",
    "# Finds root of secant based on two x-values\n",
    "def secant(y0, y1):\n",
    "    secRoot = y1 - ((f(y1)*(y1-y0)) / (f(y1)-f(y0)))\n",
    "    return secRoot\n",
    "\n",
    "# Finds the next x value based on the current two\n",
    "def nextx (y0, y1):\n",
    "    return y1 - ((f(y1) * (y1-y0)) / (f(y1)-f(y0)))"
   ]
  },
  {
   "cell_type": "code",
   "execution_count": 35,
   "metadata": {},
   "outputs": [
    {
     "name": "stdout",
     "output_type": "stream",
     "text": [
      "Root is  0.8654740332634986\n",
      "Found root in  6  steps.\n"
     ]
    }
   ],
   "source": [
    "# Find first secant root\n",
    "secRoot = secant(x0, x1)\n",
    "\n",
    "# Find new secant lines until seant root is within\n",
    "# tolerance\n",
    "while not isInTolerance(secRoot, tolerance):\n",
    "    temp = x1\n",
    "    x1 = nextx(x0, x1)\n",
    "    x0 = temp\n",
    "    secRoot = secant(x0, x1)\n",
    "    stepCount += 1\n",
    "\n",
    "# Print results\n",
    "print(\"Root is \", secRoot)\n",
    "print(\"Found root in \", stepCount, \" steps.\")"
   ]
  },
  {
   "cell_type": "code",
   "execution_count": null,
   "metadata": {},
   "outputs": [],
   "source": []
  }
 ],
 "metadata": {
  "kernelspec": {
   "display_name": "Python 3 (ipykernel)",
   "language": "python",
   "name": "python3"
  },
  "language_info": {
   "codemirror_mode": {
    "name": "ipython",
    "version": 3
   },
   "file_extension": ".py",
   "mimetype": "text/x-python",
   "name": "python",
   "nbconvert_exporter": "python",
   "pygments_lexer": "ipython3",
   "version": "3.11.5"
  }
 },
 "nbformat": 4,
 "nbformat_minor": 4
}
