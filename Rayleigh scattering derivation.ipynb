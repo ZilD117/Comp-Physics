{
 "cells": [
  {
   "cell_type": "markdown",
   "id": "02368ef4",
   "metadata": {},
   "source": [
    "\\begin{align*}\n",
    "\\ddot{x}+\\frac{k}{m} x=\\frac{a}{m} \\dot{x}-\\frac{b}{m} \\dot{x}^3 \\\\\n",
    "\\Rightarrow \\frac{x_{i+1}+x_{i-1}-2 x_i}{\\Delta t^2}+\\frac{k}{m} x_i=\\frac{a}{m}\\left(\\frac{x_{i-}-x_{i-1}}{\\Delta t}\\right)-\\frac{b}{m}\\left(\\frac{x_i-x_{i-1}}{\\Delta t}\\right)^3 \\\\\n",
    "x_{i+1}+x_{i-1}-2 x_i=\\Delta t^2 \\cdot\\left[-\\frac{k}{m} x_i+\\frac{a}{m \\Delta t} x_i-\\frac{a}{m \\Delta t} x_{i-1}-\\frac{b}{m \\Delta t^3} \\cdot\\left(x_i^3-3 x_i{ }^2 \\cdot x_{i-1}+3 x_i x_{i-1}{ }^2-x_{i-1}^3\\right)]\\right.\n",
    "\\end{align*}"
   ]
  }
 ],
 "metadata": {
  "kernelspec": {
   "display_name": "Python 3 (ipykernel)",
   "language": "python",
   "name": "python3"
  },
  "language_info": {
   "codemirror_mode": {
    "name": "ipython",
    "version": 3
   },
   "file_extension": ".py",
   "mimetype": "text/x-python",
   "name": "python",
   "nbconvert_exporter": "python",
   "pygments_lexer": "ipython3",
   "version": "3.9.5"
  }
 },
 "nbformat": 4,
 "nbformat_minor": 5
}
