{
 "cells": [
  {
   "cell_type": "code",
   "execution_count": 531,
   "id": "e22b5ad6",
   "metadata": {},
   "outputs": [],
   "source": [
    "import numpy as np\n",
    "import matplotlib.pyplot as plt\n",
    "import matplotlib.animation as animation\n",
    "from matplotlib.animation import FuncAnimation"
   ]
  },
  {
   "cell_type": "code",
   "execution_count": 532,
   "id": "757f255e",
   "metadata": {},
   "outputs": [],
   "source": [
    "# Bird object with attributes pos (2-D vector), vel (2-D vector), [axis (?)]\n",
    "\n",
    "class boid:\n",
    "    def __init__(self, pos_x, pos_y, vel_x, vel_y):\n",
    "        self.pos = np.array([pos_x, pos_y])\n",
    "        self.vel = np.array([vel_x, vel_y])\n",
    "        \n",
    "    def move(self, goal, mu=0.1, dt=1):\n",
    "        self.vel = (1 - mu) * self.vel + mu * goal\n",
    "        self.vel = self.vel / np.linalg.norm(self.vel)\n",
    "        self.pos += dt * self.vel"
   ]
  },
  {
   "cell_type": "code",
   "execution_count": 533,
   "id": "26ef1df6",
   "metadata": {},
   "outputs": [],
   "source": [
    "# Magnitude function\n",
    "\n",
    "def mag(vec):\n",
    "    magnitude = np.linalg.norm(vec)\n",
    "    return magnitude"
   ]
  },
  {
   "cell_type": "code",
   "execution_count": 534,
   "id": "a020eb92",
   "metadata": {},
   "outputs": [],
   "source": [
    "# Angle_diff (find angle between two vectors in radians) function\n",
    "\n",
    "def angle_diff(vec1, vec2):\n",
    "    angle = np.arccos(np.dot(vec1, vec2)/(mag(vec1)*mag(vec2)))\n",
    "    return angle"
   ]
  },
  {
   "cell_type": "code",
   "execution_count": 535,
   "id": "d8e016bd",
   "metadata": {},
   "outputs": [],
   "source": [
    "# Get_neighbors function finds other boids in the field of view\n",
    "\n",
    "# Takes: \"self\" = self boid, \"others\" = list of other boids, \"radius\" = radius of vision, \"angle\" = field of view\n",
    "# Returns: a list of the boids in the field of view\n",
    "\n",
    "def get_neighbors(self, others, radius, angle):\n",
    "    boids = []\n",
    "    for other in others:\n",
    "        \n",
    "        # if other boid is itself, skip it\n",
    "        if other is self:\n",
    "            continue\n",
    "\n",
    "        offset = other.pos - self.pos\n",
    "\n",
    "        # if not in range, skip it\n",
    "        if mag(offset) > radius:\n",
    "            continue\n",
    "\n",
    "        # if not within viewing angle, skip it\n",
    "        if angle_diff(self.vel, offset) > angle:\n",
    "            continue\n",
    "\n",
    "        # otherwise add it to the list\n",
    "        boids.append(other)\n",
    "\n",
    "    return boids"
   ]
  },
  {
   "cell_type": "code",
   "execution_count": 536,
   "id": "cffc0b18",
   "metadata": {},
   "outputs": [
    {
     "name": "stdout",
     "output_type": "stream",
     "text": [
      "[1 0]\n",
      "[ 1.  -0.2]\n"
     ]
    }
   ],
   "source": [
    "# Get_neighbors tester\n",
    "\n",
    "me = boid(0, 0, 1, 0) # self boid with direction on positive x-axis\n",
    "b2 = boid(1, 0, 0, 0) # other boid position (1, 0) should be in view\n",
    "b3 = boid(0, 1, 0, 0) # other boid position (0, 1) should be out of view (angle)\n",
    "b4 = boid(3, 0, 0, 0) # other boid position (0, 1) should be out of view (distance)\n",
    "b5 = boid(1, -0.2, 0, 0) # other boid position (1, -0.2) should be in view\n",
    "o = [b2, b3, b4, b5]\n",
    "\n",
    "radius = 2\n",
    "angle = np.pi/4\n",
    "\n",
    "neighbors = get_neighbors(me, o, radius, angle)\n",
    "for i, item in enumerate(neighbors):\n",
    "    print(neighbors[i].pos)\n",
    "    \n",
    "# Should print (1, 0) and (1, -0.2) representing positions of b1 and b5, the two boids in the field of view"
   ]
  },
  {
   "cell_type": "code",
   "execution_count": 537,
   "id": "40407040",
   "metadata": {},
   "outputs": [],
   "source": [
    "# Center function returns a normalized vector pointing at the origin (our fixed center of mass)\n",
    "\n",
    "def center(self):\n",
    "    center_point = np.array(-self.pos) / mag(self.pos)\n",
    "    return center_point"
   ]
  },
  {
   "cell_type": "code",
   "execution_count": 538,
   "id": "9e79f1bb",
   "metadata": {},
   "outputs": [
    {
     "data": {
      "text/plain": [
       "array([-1.,  0.])"
      ]
     },
     "execution_count": 538,
     "metadata": {},
     "output_type": "execute_result"
    }
   ],
   "source": [
    "# Center tester\n",
    "\n",
    "b4 = boid(3, 0, 0, 0) # boid at position (3, 0) needs to get normalized to mag = 1\n",
    "\n",
    "center(b2)\n",
    "\n",
    "# Should print (1, 0)"
   ]
  },
  {
   "cell_type": "code",
   "execution_count": 539,
   "id": "8c9d9892",
   "metadata": {},
   "outputs": [],
   "source": [
    "# Avoid function returns a normalized vector pointing directly away from the nearest visible boid\n",
    "\n",
    "def avoid(self, others, radius, angle):\n",
    "    \n",
    "    # Find all visible_boids using get_neighbors\n",
    "    visible_boids = get_neighbors(self, others, radius, angle)\n",
    "    \n",
    "    # If no visible_boids, return an empty vector\n",
    "    if not visible_boids:\n",
    "        return np.array([0, 0])\n",
    "    \n",
    "    # Find the nearest_boid out of the visible_boids\n",
    "    nearest_boid = None\n",
    "    min_distance = float('inf')  # Set initial min_distance to infinity\n",
    "\n",
    "    for other_boid in visible_boids:\n",
    "        distance = mag(other_boid.pos - self.pos)\n",
    "\n",
    "        if distance < min_distance:\n",
    "            nearest_boid = other_boid\n",
    "            min_distance = distance\n",
    "            \n",
    "    # If no nearest_boid, return an empty vector\n",
    "    if not nearest_boid:\n",
    "        return np.array([0, 0])\n",
    "    \n",
    "    # Return a normalized vector pointing directly away from nearest_boid\n",
    "    offset = nearest_boid.pos - self.pos\n",
    "    \n",
    "    if mag(offset) == 0:\n",
    "        print(\"Warning: Avoidance offset magnitude is zero.\")\n",
    "        run_away = np.array([0, 0])\n",
    "    else:\n",
    "        run_away = np.array(-offset) / mag(offset)\n",
    "    \n",
    "    return run_away"
   ]
  },
  {
   "cell_type": "code",
   "execution_count": 540,
   "id": "144e49e2",
   "metadata": {},
   "outputs": [
    {
     "name": "stdout",
     "output_type": "stream",
     "text": [
      "[-1.  0.]\n",
      "[0 0]\n"
     ]
    },
    {
     "name": "stderr",
     "output_type": "stream",
     "text": [
      "/var/folders/dq/17k9n8_50ln7kw09jmqd7czm0000gn/T/ipykernel_96134/1352719432.py:4: RuntimeWarning: invalid value encountered in scalar divide\n",
      "  angle = np.arccos(np.dot(vec1, vec2)/(mag(vec1)*mag(vec2)))\n"
     ]
    }
   ],
   "source": [
    "# Avoid tester\n",
    "\n",
    "me = boid(0, 0, 0, 0)\n",
    "c1 = boid(2, 1, 0, 0)\n",
    "c2 = boid(2, 2, 0, 0)\n",
    "c3 = boid(1, 0, 0, 0) # Nearest boid\n",
    "c4 = boid(5, 2, 0, 0)\n",
    "c = [c1, c2, c3, c4]\n",
    "\n",
    "print(avoid(me, c, 10, 2*np.pi)) # Field of view encompasses all boids in c\n",
    "\n",
    "# Should print (-1, 0) as that is the vector pointing directly away from the nearest boid, c3\n",
    "\n",
    "print(avoid(me, c, 0.2, 2*np.pi)) # Tiny field of view, no boids in vision\n",
    "\n",
    "# Should print (0, 0) as no boids are visible"
   ]
  },
  {
   "cell_type": "code",
   "execution_count": 541,
   "id": "c5d6f3ab",
   "metadata": {},
   "outputs": [],
   "source": [
    "# Copy function returns a normalized vector that matches the velocity of visible boids\n",
    "\n",
    "def copy(self, others, radius, angle):\n",
    "    \n",
    "    # Find all visible_boids using get_neighbors\n",
    "    visible_boids = get_neighbors(self, others, radius, angle)\n",
    "    \n",
    "    # Check if no visible_boids\n",
    "    if not visible_boids:\n",
    "        print(\"Warning: No visible boids found.\")\n",
    "    \n",
    "    # Add together all velocities of visible_boids to represent copying directions of all visible_boids\n",
    "    velocities = []\n",
    "    for i, item in enumerate(visible_boids):\n",
    "        velocity = visible_boids[i].vel\n",
    "        velocities.append(velocity)\n",
    "        \n",
    "    # Check if all velocities = 0\n",
    "    if all(np.all(vel == 0) for vel in velocities):\n",
    "        print(\"Warning: All visible boids have zero velocity.\")\n",
    "            \n",
    "    # Return a normalized vector of aligned velocities\n",
    "    if mag(np.sum(velocities, axis=0)) == 0:\n",
    "        print(\"Warning: Copy velocity vector magnitude is zero.\")\n",
    "        follow_the_flock = np.array([0, 0])\n",
    "    else:\n",
    "        follow_the_flock = np.sum(velocities, axis=0) / mag(np.sum(velocities, axis=0))\n",
    "    \n",
    "    return follow_the_flock"
   ]
  },
  {
   "cell_type": "code",
   "execution_count": 542,
   "id": "1cfe2e3a",
   "metadata": {},
   "outputs": [
    {
     "name": "stderr",
     "output_type": "stream",
     "text": [
      "/var/folders/dq/17k9n8_50ln7kw09jmqd7czm0000gn/T/ipykernel_96134/1352719432.py:4: RuntimeWarning: invalid value encountered in scalar divide\n",
      "  angle = np.arccos(np.dot(vec1, vec2)/(mag(vec1)*mag(vec2)))\n"
     ]
    },
    {
     "data": {
      "text/plain": [
       "array([0., 1.])"
      ]
     },
     "execution_count": 542,
     "metadata": {},
     "output_type": "execute_result"
    }
   ],
   "source": [
    "# Copy tester\n",
    "\n",
    "me = boid(0, 0, 0, 0)\n",
    "c1 = boid(2, 1, 1, 1)\n",
    "c2 = boid(2, 2, -1, 0)\n",
    "c = [c1, c2]\n",
    "\n",
    "copy(me, c, 10, 2*np.pi) # Field of view encompasses all boids in c\n",
    "\n",
    "# Should print (0, 1) as that is the copy vector"
   ]
  },
  {
   "cell_type": "code",
   "execution_count": 543,
   "id": "7a03b97a",
   "metadata": {},
   "outputs": [],
   "source": [
    "# Set_goal computes the weighted sum of the goals and sets the overall goal\n",
    "\n",
    "# Takes: self, others, radius, angle\n",
    "# Returns: normalized weighted goal vector\n",
    "\n",
    "def set_goal(self, others, radius, angle):\n",
    "    goal = (w_avoid*avoid(self, others, radius, angle) + w_center*center(self)\n",
    "            + w_copy*copy(self, others, radius, angle))\n",
    "    \n",
    "    if mag(goal) == 0:\n",
    "        print(\"Warning: Goal vector magnitude is zero.\")\n",
    "        goal_norm = np.array([0, 0])\n",
    "    else:\n",
    "        goal_norm = goal / mag(goal)\n",
    "    \n",
    "    return goal_norm"
   ]
  },
  {
   "cell_type": "code",
   "execution_count": 544,
   "id": "a4eb970c",
   "metadata": {},
   "outputs": [],
   "source": [
    "# move updates the velocity, position and attitude of the boid:\n",
    "# The parameter mu determines how quickly the birds can change speed and direction\n",
    "# The time step, dt determines how far the boids move.\n",
    "#def move(self, goal, mu=0.1):\n",
    "    #self.vel = (1-mu) * self.vel + mu * goal\n",
    "    #self.vel = self.vel / mag(self.vel)\n",
    "\n",
    "    #self.pos += dt * self.vel"
   ]
  },
  {
   "cell_type": "markdown",
   "id": "afb00492",
   "metadata": {},
   "source": [
    "#### Simulation"
   ]
  },
  {
   "cell_type": "code",
   "execution_count": 550,
   "id": "5251308f",
   "metadata": {},
   "outputs": [
    {
     "name": "stdout",
     "output_type": "stream",
     "text": [
      "Wsum 1.0\n"
     ]
    }
   ],
   "source": [
    "num_boids = 10  # Number of boids\n",
    "num_steps = 6  # Number of time steps in the simulation\n",
    "mu = 0.01  # Speed/direction change factor\n",
    "dt = 1  # Time step size\n",
    "\n",
    "radius = 5\n",
    "angle = np.pi\n",
    "\n",
    "w_avoid = 1/3\n",
    "w_center = 1/3\n",
    "w_copy = 1/3\n",
    "\n",
    "print('Wsum', w_avoid + w_center + w_copy)"
   ]
  },
  {
   "cell_type": "code",
   "execution_count": 551,
   "id": "8a934850",
   "metadata": {},
   "outputs": [],
   "source": [
    "# Initialize boids with random positions and 0 velocity\n",
    "np.random.seed(1)\n",
    "boids = [boid(pos_x, pos_y, 0, 0) \n",
    "         for pos_x, pos_y in zip(np.random.uniform(-5, 5, num_boids), \n",
    "                                 np.random.uniform(-5, 5, num_boids))]"
   ]
  },
  {
   "cell_type": "code",
   "execution_count": 552,
   "id": "ad023ded",
   "metadata": {},
   "outputs": [
    {
     "name": "stdout",
     "output_type": "stream",
     "text": [
      "Boid 0: Position = [-0.82977995 -0.80805486], Velocity = [0 0]\n",
      "Boid 1: Position = [2.20324493 1.852195  ], Velocity = [0 0]\n",
      "Boid 2: Position = [-4.99885625 -2.9554775 ], Velocity = [0 0]\n",
      "Boid 3: Position = [-1.97667427  3.78117436], Velocity = [0 0]\n",
      "Boid 4: Position = [-3.53244109 -4.72612407], Velocity = [0 0]\n",
      "Boid 5: Position = [-4.07661405  1.7046751 ], Velocity = [0 0]\n",
      "Boid 6: Position = [-3.13739789 -0.82695198], Velocity = [0 0]\n",
      "Boid 7: Position = [-1.54439273  0.58689828], Velocity = [0 0]\n",
      "Boid 8: Position = [-1.03232526 -3.59613061], Velocity = [0 0]\n",
      "Boid 9: Position = [ 0.38816734 -3.01898511], Velocity = [0 0]\n"
     ]
    }
   ],
   "source": [
    "# Check initial positions of boids\n",
    "for i, b in enumerate(boids):\n",
    "    print(f\"Boid {i}: Position = {b.pos}, Velocity = {b.vel}\")"
   ]
  },
  {
   "cell_type": "code",
   "execution_count": 553,
   "id": "ea1eedb7",
   "metadata": {},
   "outputs": [
    {
     "data": {
      "text/plain": [
       "<Figure size 1000x600 with 0 Axes>"
      ]
     },
     "metadata": {},
     "output_type": "display_data"
    }
   ],
   "source": [
    "plt.figure(figsize=(10, 6))\n",
    "colors = plt.cm.viridis(np.linspace(0, 1, num_boids))"
   ]
  },
  {
   "cell_type": "code",
   "execution_count": 554,
   "id": "68abbd8e",
   "metadata": {},
   "outputs": [
    {
     "name": "stderr",
     "output_type": "stream",
     "text": [
      "/var/folders/dq/17k9n8_50ln7kw09jmqd7czm0000gn/T/ipykernel_96134/1352719432.py:4: RuntimeWarning: invalid value encountered in scalar divide\n",
      "  angle = np.arccos(np.dot(vec1, vec2)/(mag(vec1)*mag(vec2)))\n"
     ]
    },
    {
     "name": "stdout",
     "output_type": "stream",
     "text": [
      "Warning: All visible boids have zero velocity.\n",
      "Warning: Copy velocity vector magnitude is zero.\n",
      "Warning: All visible boids have zero velocity.\n",
      "Warning: Copy velocity vector magnitude is zero.\n",
      "Warning: All visible boids have zero velocity.\n",
      "Warning: Copy velocity vector magnitude is zero.\n"
     ]
    },
    {
     "data": {
      "image/png": "[encoded data removed]",
      "text/plain": [
       "<Figure size 640x480 with 6 Axes>"
      ]
     },
     "metadata": {},
     "output_type": "display_data"
    }
   ],
   "source": [
    "# Simulation loop\n",
    "for step in range(num_steps):\n",
    "    # Calculate the goal and move each boid\n",
    "    for b in boids:\n",
    "        # Update goal\n",
    "        goal = set_goal(b, boids, radius, angle)\n",
    "        \n",
    "        # Update position and velocity\n",
    "        b.move(goal, mu, dt)\n",
    "    \n",
    "    # Check boid positions\n",
    "    #for i, b in enumerate(boids):\n",
    "        #print(f\"Boid {i}: Position = {b.pos}, Velocity = {b.vel}\")\n",
    "    \n",
    "    # Plotting\n",
    "    plt.subplot(2, 3, step+1)\n",
    "    for i, b in enumerate(boids):\n",
    "        plt.scatter(b.pos[0], b.pos[1], color=colors[i], s=50)\n",
    "        plt.quiver(b.pos[0], b.pos[1], b.vel[0], b.vel[1], color=colors[i], scale=10, scale_units='xy', angles='xy')\n",
    "    plt.xlim(-8, 8)\n",
    "    plt.ylim(-8, 8)\n",
    "    plt.title(f\"Step {step+1}\")\n",
    "    plt.gca().set_aspect('equal', adjustable='box')\n",
    "    plt.tight_layout()\n",
    "\n",
    "plt.show()"
   ]
  },
  {
   "cell_type": "markdown",
   "id": "d34b6d74",
   "metadata": {},
   "source": [
    "#### Animation"
   ]
  },
  {
   "cell_type": "code",
   "execution_count": 528,
   "id": "6c2ff8ad",
   "metadata": {},
   "outputs": [],
   "source": [
    "# Initialize boids with random positions and 0 velocity\n",
    "np.random.seed(1)\n",
    "boids = [boid(pos_x, pos_y, 0, 0) \n",
    "         for pos_x, pos_y in zip(np.random.uniform(-5, 5, num_boids), \n",
    "                                 np.random.uniform(-5, 5, num_boids))]"
   ]
  },
  {
   "cell_type": "code",
   "execution_count": 529,
   "id": "9bae3345",
   "metadata": {},
   "outputs": [
    {
     "name": "stdout",
     "output_type": "stream",
     "text": [
      "Boid 0: Position = [-0.82977995 -0.80805486], Velocity = [0 0]\n",
      "Boid 1: Position = [2.20324493 1.852195  ], Velocity = [0 0]\n",
      "Boid 2: Position = [-4.99885625 -2.9554775 ], Velocity = [0 0]\n",
      "Boid 3: Position = [-1.97667427  3.78117436], Velocity = [0 0]\n",
      "Boid 4: Position = [-3.53244109 -4.72612407], Velocity = [0 0]\n",
      "Boid 5: Position = [-4.07661405  1.7046751 ], Velocity = [0 0]\n",
      "Boid 6: Position = [-3.13739789 -0.82695198], Velocity = [0 0]\n",
      "Boid 7: Position = [-1.54439273  0.58689828], Velocity = [0 0]\n",
      "Boid 8: Position = [-1.03232526 -3.59613061], Velocity = [0 0]\n",
      "Boid 9: Position = [ 0.38816734 -3.01898511], Velocity = [0 0]\n"
     ]
    }
   ],
   "source": [
    "# Check initial positions of boids\n",
    "for i, b in enumerate(boids):\n",
    "    print(f\"Boid {i}: Position = {b.pos}, Velocity = {b.vel}\")"
   ]
  },
  {
   "cell_type": "code",
   "execution_count": 530,
   "id": "3ea9ef2d",
   "metadata": {},
   "outputs": [
    {
     "data": {
      "image/png": "[encoded data removed]",
      "text/plain": [
       "<Figure size 600x600 with 1 Axes>"
      ]
     },
     "metadata": {},
     "output_type": "display_data"
    }
   ],
   "source": [
    "# Set up the plot\n",
    "fig, ax = plt.subplots(figsize=(6, 6))\n",
    "sc = plt.scatter([0], [0])\n",
    "quiver = plt.quiver([0], [0], [0], [0], angles='xy', scale_units='xy', scale=1)\n",
    "\n",
    "# Set axis limits and labels\n",
    "ax.set_xlim(-8, 8)\n",
    "ax.set_ylim(-8, 8)\n",
    "ax.set_aspect('equal', adjustable='box')\n",
    "ax.set_xlabel('X')\n",
    "ax.set_ylabel('Y')\n",
    "\n",
    "def init():\n",
    "    \"\"\"Initialize the scatter and quiver objects.\"\"\"\n",
    "    sc.set_offsets([[0, 0]])\n",
    "    quiver.set_offsets([[0, 0]])\n",
    "    quiver.set_UVC([0], [0])\n",
    "    return sc, quiver\n",
    "\n",
    "def update(frame):\n",
    "    \"\"\"Update the scatter plot.\"\"\"\n",
    "    positions = []\n",
    "    velocities = []\n",
    "    \n",
    "    # Calculate the goal and move each boid\n",
    "    for b in boids:\n",
    "        # Update goal\n",
    "        goal = set_goal(b, boids, radius, angle)\n",
    "        \n",
    "        # Update position and velocity\n",
    "        b.move(goal, mu, dt)\n",
    "        \n",
    "        # Store position and velocity for plotting\n",
    "        positions.append(b.pos)\n",
    "        velocities.append(b.vel)\n",
    "    \n",
    "    # Update scatter and quiver data\n",
    "    sc.set_offsets(positions)\n",
    "    quiver.set_offsets(positions)\n",
    "    quiver.set_UVC([v[0] for v in velocities], [v[1] for v in velocities])\n",
    "    return sc, quiver\n",
    "\n",
    "# Create animation\n",
    "ani = FuncAnimation(fig, update, frames=100, init_func=init, blit=True)\n",
    "\n",
    "plt.show()"
   ]
  },
  {
   "cell_type": "code",
   "execution_count": null,
   "id": "c61faac5",
   "metadata": {},
   "outputs": [],
   "source": []
  },
  {
   "cell_type": "code",
   "execution_count": null,
   "id": "639db7cb",
   "metadata": {},
   "outputs": [],
   "source": []
  },
  {
   "cell_type": "code",
   "execution_count": null,
   "id": "89c869fc",
   "metadata": {},
   "outputs": [],
   "source": []
  }
 ],
 "metadata": {
  "kernelspec": {
   "display_name": "Python 3 (ipykernel)",
   "language": "python",
   "name": "python3"
  },
  "language_info": {
   "codemirror_mode": {
    "name": "ipython",
    "version": 3
   },
   "file_extension": ".py",
   "mimetype": "text/x-python",
   "name": "python",
   "nbconvert_exporter": "python",
   "pygments_lexer": "ipython3",
   "version": "3.11.4"
  }
 },
 "nbformat": 4,
 "nbformat_minor": 5
}
