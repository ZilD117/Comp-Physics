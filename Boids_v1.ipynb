{
 "cells": [
  {
   "cell_type": "code",
   "execution_count": 615,
   "id": "5985fcee",
   "metadata": {},
   "outputs": [],
   "source": [
    "import numpy as np\n",
    "import matplotlib.pyplot as plt\n",
    "import matplotlib.animation as animation\n",
    "from matplotlib.animation import FuncAnimation"
   ]
  },
  {
   "cell_type": "code",
   "execution_count": 573,
   "id": "7e80b36e",
   "metadata": {},
   "outputs": [],
   "source": [
    "# Bird object with attributes pos (2-D vector), vel (2-D vector), [axis (?)]\n",
    "\n",
    "class boid:\n",
    "    def __init__(self, pos_x, pos_y, vel_x, vel_y):\n",
    "        self.pos = np.array([pos_x, pos_y])\n",
    "        self.vel = np.array([vel_x, vel_y])\n",
    "        \n",
    "    def move(self, goal, mu, dt):\n",
    "        self.vel = (1 - mu) * self.vel + mu * goal\n",
    "        self.vel = self.vel / np.linalg.norm(self.vel)\n",
    "        self.pos += dt * self.vel"
   ]
  },
  {
   "cell_type": "code",
   "execution_count": 533,
   "id": "1b264522",
   "metadata": {},
   "outputs": [],
   "source": [
    "# Magnitude function\n",
    "\n",
    "def mag(vec):\n",
    "    magnitude = np.linalg.norm(vec)\n",
    "    return magnitude"
   ]
  },
  {
   "cell_type": "code",
   "execution_count": 534,
   "id": "60a48550",
   "metadata": {},
   "outputs": [],
   "source": [
    "# Angle_diff (find angle between two vectors in radians) function\n",
    "\n",
    "def angle_diff(vec1, vec2):\n",
    "    angle = np.arccos(np.dot(vec1, vec2)/(mag(vec1)*mag(vec2)))\n",
    "    return angle"
   ]
  },
  {
   "cell_type": "code",
   "execution_count": 535,
   "id": "6877a864",
   "metadata": {},
   "outputs": [],
   "source": [
    "# Get_neighbors function finds other boids in the field of view\n",
    "\n",
    "# Takes: \"self\" = self boid, \"others\" = list of other boids, \"radius\" = radius of vision, \"angle\" = field of view\n",
    "# Returns: a list of the boids in the field of view\n",
    "\n",
    "def get_neighbors(self, others, radius, angle):\n",
    "    boids = []\n",
    "    for other in others:\n",
    "        \n",
    "        # if other boid is itself, skip it\n",
    "        if other is self:\n",
    "            continue\n",
    "\n",
    "        offset = other.pos - self.pos\n",
    "\n",
    "        # if not in range, skip it\n",
    "        if mag(offset) > radius:\n",
    "            continue\n",
    "\n",
    "        # if not within viewing angle, skip it\n",
    "        if angle_diff(self.vel, offset) > angle:\n",
    "            continue\n",
    "\n",
    "        # otherwise add it to the list\n",
    "        boids.append(other)\n",
    "\n",
    "    return boids"
   ]
  },
  {
   "cell_type": "code",
   "execution_count": 536,
   "id": "46e507be",
   "metadata": {},
   "outputs": [
    {
     "name": "stdout",
     "output_type": "stream",
     "text": [
      "[1 0]\n",
      "[ 1.  -0.2]\n"
     ]
    }
   ],
   "source": [
    "# Get_neighbors tester\n",
    "\n",
    "me = boid(0, 0, 1, 0) # self boid with direction on positive x-axis\n",
    "b2 = boid(1, 0, 0, 0) # other boid position (1, 0) should be in view\n",
    "b3 = boid(0, 1, 0, 0) # other boid position (0, 1) should be out of view (angle)\n",
    "b4 = boid(3, 0, 0, 0) # other boid position (0, 1) should be out of view (distance)\n",
    "b5 = boid(1, -0.2, 0, 0) # other boid position (1, -0.2) should be in view\n",
    "o = [b2, b3, b4, b5]\n",
    "\n",
    "radius = 2\n",
    "angle = np.pi/4\n",
    "\n",
    "neighbors = get_neighbors(me, o, radius, angle)\n",
    "for i, item in enumerate(neighbors):\n",
    "    print(neighbors[i].pos)\n",
    "    \n",
    "# Should print (1, 0) and (1, -0.2) representing positions of b1 and b5, the two boids in the field of view"
   ]
  },
  {
   "cell_type": "code",
   "execution_count": 729,
   "id": "f2476000",
   "metadata": {},
   "outputs": [],
   "source": [
    "# Center function returns a normalized vector pointing at the origin (our fixed center of mass)\n",
    "\n",
    "def center(self):\n",
    "    center_point = np.array(-self.pos) / mag(self.pos)\n",
    "    return center_point"
   ]
  },
  {
   "cell_type": "code",
   "execution_count": 730,
   "id": "2fa58b36",
   "metadata": {},
   "outputs": [
    {
     "data": {
      "text/plain": [
       "array([-1.,  0.])"
      ]
     },
     "execution_count": 730,
     "metadata": {},
     "output_type": "execute_result"
    }
   ],
   "source": [
    "# Center tester\n",
    "\n",
    "b4 = boid(3, 0, 1, 1) # boid at position (3, 0) needs to get normalized to mag = 1\n",
    "\n",
    "center(b4)\n",
    "\n",
    "# Should print (1, 0)"
   ]
  },
  {
   "cell_type": "code",
   "execution_count": 539,
   "id": "2e162b20",
   "metadata": {},
   "outputs": [],
   "source": [
    "# Avoid function returns a normalized vector pointing directly away from the nearest visible boid\n",
    "\n",
    "def avoid(self, others, radius, angle):\n",
    "    \n",
    "    # Find all visible_boids using get_neighbors\n",
    "    visible_boids = get_neighbors(self, others, radius, angle)\n",
    "    \n",
    "    # If no visible_boids, return an empty vector\n",
    "    if not visible_boids:\n",
    "        return np.array([0, 0])\n",
    "    \n",
    "    # Find the nearest_boid out of the visible_boids\n",
    "    nearest_boid = None\n",
    "    min_distance = float('inf')  # Set initial min_distance to infinity\n",
    "\n",
    "    for other_boid in visible_boids:\n",
    "        distance = mag(other_boid.pos - self.pos)\n",
    "\n",
    "        if distance < min_distance:\n",
    "            nearest_boid = other_boid\n",
    "            min_distance = distance\n",
    "            \n",
    "    # If no nearest_boid, return an empty vector\n",
    "    if not nearest_boid:\n",
    "        return np.array([0, 0])\n",
    "    \n",
    "    # Return a normalized vector pointing directly away from nearest_boid\n",
    "    offset = nearest_boid.pos - self.pos\n",
    "    \n",
    "    if mag(offset) == 0:\n",
    "        print(\"Warning: Avoidance offset magnitude is zero.\")\n",
    "        run_away = np.array([0, 0])\n",
    "    else:\n",
    "        run_away = np.array(-offset) / mag(offset)\n",
    "    \n",
    "    return run_away"
   ]
  },
  {
   "cell_type": "code",
   "execution_count": 540,
   "id": "14a0d4e4",
   "metadata": {},
   "outputs": [
    {
     "name": "stdout",
     "output_type": "stream",
     "text": [
      "[-1.  0.]\n",
      "[0 0]\n"
     ]
    },
    {
     "name": "stderr",
     "output_type": "stream",
     "text": [
      "/var/folders/dq/17k9n8_50ln7kw09jmqd7czm0000gn/T/ipykernel_96134/1352719432.py:4: RuntimeWarning: invalid value encountered in scalar divide\n",
      "  angle = np.arccos(np.dot(vec1, vec2)/(mag(vec1)*mag(vec2)))\n"
     ]
    }
   ],
   "source": [
    "# Avoid tester\n",
    "\n",
    "me = boid(0, 0, 0, 0)\n",
    "c1 = boid(2, 1, 0, 0)\n",
    "c2 = boid(2, 2, 0, 0)\n",
    "c3 = boid(1, 0, 0, 0) # Nearest boid\n",
    "c4 = boid(5, 2, 0, 0)\n",
    "c = [c1, c2, c3, c4]\n",
    "\n",
    "print(avoid(me, c, 10, 2*np.pi)) # Field of view encompasses all boids in c\n",
    "\n",
    "# Should print (-1, 0) as that is the vector pointing directly away from the nearest boid, c3\n",
    "\n",
    "print(avoid(me, c, 0.2, 2*np.pi)) # Tiny field of view, no boids in vision\n",
    "\n",
    "# Should print (0, 0) as no boids are visible"
   ]
  },
  {
   "cell_type": "code",
   "execution_count": 541,
   "id": "f110dd3a",
   "metadata": {},
   "outputs": [],
   "source": [
    "# Copy function returns a normalized vector that matches the velocity of visible boids\n",
    "\n",
    "def copy(self, others, radius, angle):\n",
    "    \n",
    "    # Find all visible_boids using get_neighbors\n",
    "    visible_boids = get_neighbors(self, others, radius, angle)\n",
    "    \n",
    "    # Check if no visible_boids\n",
    "    if not visible_boids:\n",
    "        print(\"Warning: No visible boids found.\")\n",
    "    \n",
    "    # Add together all velocities of visible_boids to represent copying directions of all visible_boids\n",
    "    velocities = []\n",
    "    for i, item in enumerate(visible_boids):\n",
    "        velocity = visible_boids[i].vel\n",
    "        velocities.append(velocity)\n",
    "        \n",
    "    # Check if all velocities = 0\n",
    "    if all(np.all(vel == 0) for vel in velocities):\n",
    "        print(\"Warning: All visible boids have zero velocity.\")\n",
    "            \n",
    "    # Return a normalized vector of aligned velocities\n",
    "    if mag(np.sum(velocities, axis=0)) == 0:\n",
    "        print(\"Warning: Copy velocity vector magnitude is zero.\")\n",
    "        follow_the_flock = np.array([0, 0])\n",
    "    else:\n",
    "        follow_the_flock = np.sum(velocities, axis=0) / mag(np.sum(velocities, axis=0))\n",
    "    \n",
    "    return follow_the_flock"
   ]
  },
  {
   "cell_type": "code",
   "execution_count": 542,
   "id": "d822c4df",
   "metadata": {},
   "outputs": [
    {
     "name": "stderr",
     "output_type": "stream",
     "text": [
      "/var/folders/dq/17k9n8_50ln7kw09jmqd7czm0000gn/T/ipykernel_96134/1352719432.py:4: RuntimeWarning: invalid value encountered in scalar divide\n",
      "  angle = np.arccos(np.dot(vec1, vec2)/(mag(vec1)*mag(vec2)))\n"
     ]
    },
    {
     "data": {
      "text/plain": [
       "array([0., 1.])"
      ]
     },
     "execution_count": 542,
     "metadata": {},
     "output_type": "execute_result"
    }
   ],
   "source": [
    "# Copy tester\n",
    "\n",
    "me = boid(0, 0, 0, 0)\n",
    "c1 = boid(2, 1, 1, 1)\n",
    "c2 = boid(2, 2, -1, 0)\n",
    "c = [c1, c2]\n",
    "\n",
    "copy(me, c, 10, 2*np.pi) # Field of view encompasses all boids in c\n",
    "\n",
    "# Should print (0, 1) as that is the copy vector"
   ]
  },
  {
   "cell_type": "code",
   "execution_count": 621,
   "id": "619401ac",
   "metadata": {},
   "outputs": [],
   "source": [
    "# Set_goal computes the weighted sum of the goals and sets the overall goal\n",
    "\n",
    "# Takes: self, others, radius, angle\n",
    "# Returns: normalized weighted goal vector\n",
    "\n",
    "def set_goal(self, others, radius, angle):\n",
    "    \n",
    "    goal = (w_avoid*avoid(self, others, radius, angle) + w_center*center(self)\n",
    "            + w_copy*copy(self, others, radius, angle))\n",
    "    \n",
    "    if mag(goal) == 0:\n",
    "        print(\"Warning: Goal vector magnitude is zero.\")\n",
    "        goal_norm = np.array([0, 0])\n",
    "    else:\n",
    "        goal_norm = goal / mag(goal)\n",
    "    \n",
    "    return [goal_norm, w_avoid*avoid(self, others, radius, angle), w_center*center(self),\n",
    "                       w_copy*copy(self, others, radius, angle)]"
   ]
  },
  {
   "cell_type": "code",
   "execution_count": 544,
   "id": "db796ceb",
   "metadata": {},
   "outputs": [],
   "source": [
    "# move updates the velocity, position and attitude of the boid:\n",
    "# The parameter mu determines how quickly the birds can change speed and direction\n",
    "# The time step, dt determines how far the boids move.\n",
    "#def move(self, goal, mu=0.1):\n",
    "    #self.vel = (1-mu) * self.vel + mu * goal\n",
    "    #self.vel = self.vel / mag(self.vel)\n",
    "\n",
    "    #self.pos += dt * self.vel"
   ]
  },
  {
   "cell_type": "markdown",
   "id": "7fef5054",
   "metadata": {},
   "source": [
    "### Simulation"
   ]
  },
  {
   "cell_type": "code",
   "execution_count": 731,
   "id": "c5d255ef",
   "metadata": {},
   "outputs": [
    {
     "name": "stdout",
     "output_type": "stream",
     "text": [
      "Wsum 2.0\n"
     ]
    }
   ],
   "source": [
    "num_boids = 10  # Number of boids\n",
    "num_steps = 6  # Number of time steps in the simulation\n",
    "mu = 0.1  # Speed/direction change factor\n",
    "dt = 1  # Time step size\n",
    "\n",
    "radius = 5\n",
    "angle = np.pi\n",
    "\n",
    "w_avoid = 0/3\n",
    "w_center = 6/3\n",
    "w_copy = 0/3\n",
    "\n",
    "print('Wsum', w_avoid + w_center + w_copy)"
   ]
  },
  {
   "cell_type": "code",
   "execution_count": 732,
   "id": "a0bfe4e2",
   "metadata": {},
   "outputs": [],
   "source": [
    "# Initialize boids with random positions and 0 velocity\n",
    "np.random.seed(1)\n",
    "boids = [boid(pos_x, pos_y, -0.1, -0.1) \n",
    "         for pos_x, pos_y in zip(np.random.uniform(-5, 5, num_boids), \n",
    "                                 np.random.uniform(-5, 5, num_boids))]"
   ]
  },
  {
   "cell_type": "code",
   "execution_count": 733,
   "id": "77f7ed32",
   "metadata": {},
   "outputs": [
    {
     "name": "stdout",
     "output_type": "stream",
     "text": [
      "Boid 0: Position = [-0.82977995 -0.80805486], Velocity = [-0.1 -0.1]\n",
      "Boid 1: Position = [2.20324493 1.852195  ], Velocity = [-0.1 -0.1]\n",
      "Boid 2: Position = [-4.99885625 -2.9554775 ], Velocity = [-0.1 -0.1]\n",
      "Boid 3: Position = [-1.97667427  3.78117436], Velocity = [-0.1 -0.1]\n",
      "Boid 4: Position = [-3.53244109 -4.72612407], Velocity = [-0.1 -0.1]\n",
      "Boid 5: Position = [-4.07661405  1.7046751 ], Velocity = [-0.1 -0.1]\n",
      "Boid 6: Position = [-3.13739789 -0.82695198], Velocity = [-0.1 -0.1]\n",
      "Boid 7: Position = [-1.54439273  0.58689828], Velocity = [-0.1 -0.1]\n",
      "Boid 8: Position = [-1.03232526 -3.59613061], Velocity = [-0.1 -0.1]\n",
      "Boid 9: Position = [ 0.38816734 -3.01898511], Velocity = [-0.1 -0.1]\n"
     ]
    }
   ],
   "source": [
    "# Check initial positions of boids\n",
    "for i, b in enumerate(boids):\n",
    "    print(f\"Boid {i}: Position = {b.pos}, Velocity = {b.vel}\")"
   ]
  },
  {
   "cell_type": "code",
   "execution_count": 734,
   "id": "f18839a8",
   "metadata": {},
   "outputs": [
    {
     "data": {
      "text/plain": [
       "<Figure size 1000x600 with 0 Axes>"
      ]
     },
     "metadata": {},
     "output_type": "display_data"
    }
   ],
   "source": [
    "plt.figure(figsize=(10, 6))\n",
    "colors = plt.cm.tab10(np.linspace(0, 1, num_boids))"
   ]
  },
  {
   "cell_type": "code",
   "execution_count": 738,
   "id": "6193a7c8",
   "metadata": {},
   "outputs": [
    {
     "name": "stdout",
     "output_type": "stream",
     "text": [
      "Boid 0: Position = [-0.82977995 -0.80805486]\n",
      "Boid 0: Avoid = [ 0. -0.], Center = [1.43284638 1.39533195], Copy = [-0. -0.]\n",
      "Boid 0: Goal = [0.71642319 0.69766597]\n",
      "Boid 1: Position = [2.20324493 1.852195  ]\n",
      "Boid 1: Avoid = [0. 0.], Center = [-1.53090682 -1.28698263], Copy = [-0. -0.]\n",
      "Boid 1: Goal = [-0.76545341 -0.64349132]\n",
      "Boid 2: Position = [-4.99885625 -2.9554775 ]\n",
      "Boid 2: Avoid = [-0.  0.], Center = [1.72161047 1.01786904], Copy = [-0. -0.]\n",
      "Boid 2: Goal = [0.86080524 0.50893452]\n",
      "Boid 3: Position = [-1.97667427  3.78117436]\n",
      "Boid 3: Avoid = [0. 0.], Center = [ 0.92656412 -1.77242177], Copy = [-0. -0.]\n",
      "Boid 3: Goal = [ 0.46328206 -0.88621088]\n",
      "Boid 4: Position = [-3.53244109 -4.72612407]\n",
      "Boid 4: Avoid = [ 0. -0.], Center = [1.19736218 1.60197497], Copy = [-0. -0.]\n",
      "Boid 4: Goal = [0.59868109 0.80098749]\n",
      "Boid 5: Position = [-4.07661405  1.7046751 ]\n",
      "Boid 5: Avoid = [-0. -0.], Center = [ 1.84517438 -0.77157729], Copy = [-0. -0.]\n",
      "Boid 5: Goal = [ 0.92258719 -0.38578864]\n",
      "Boid 6: Position = [-3.13739789 -0.82695198]\n",
      "Boid 6: Avoid = [ 0. -0.], Center = [1.93394852 0.50974808], Copy = [-0. -0.]\n",
      "Boid 6: Goal = [0.96697426 0.25487404]\n",
      "Boid 7: Position = [-1.54439273  0.58689828]\n",
      "Boid 7: Avoid = [-0.  0.], Center = [ 1.86955549 -0.71046625], Copy = [-0. -0.]\n",
      "Boid 7: Goal = [ 0.93477774 -0.35523312]\n",
      "Boid 8: Position = [-1.03232526 -3.59613061]\n",
      "Boid 8: Avoid = [-0. -0.], Center = [0.55184342 1.92236023], Copy = [-0. -0.]\n",
      "Boid 8: Goal = [0.27592171 0.96118011]\n",
      "Boid 9: Position = [ 0.38816734 -3.01898511]\n",
      "Boid 9: Avoid = [ 0. -0.], Center = [-0.25505131  1.98367054], Copy = [-0. -0.]\n",
      "Boid 9: Goal = [-0.12752566  0.99183527]\n",
      "Boid 0: Position = [-1.50172452 -1.5486563 ]\n",
      "Boid 0: Avoid = [ 0. -0.], Center = [1.39229033 1.43580209], Copy = [-0. -0.]\n",
      "Boid 0: Goal = [0.69614517 0.71790104]\n",
      "Boid 1: Position = [1.46979276 1.17245395]\n",
      "Boid 1: Avoid = [0. 0.], Center = [-1.5634901  -1.24719633], Copy = [-0. -0.]\n",
      "Boid 1: Goal = [-0.78174505 -0.62359817]\n",
      "Boid 2: Position = [-5.0985822  -3.95049244]\n",
      "Boid 2: Avoid = [-0.  0.], Center = [1.58096653 1.22496727], Copy = [-0. -0.]\n",
      "Boid 2: Goal = [0.79048327 0.61248364]\n",
      "Boid 3: Position = [-2.21417284  2.80978647]\n",
      "Boid 3: Avoid = [0. 0.], Center = [ 1.237883   -1.57087417], Copy = [-0. -0.]\n",
      "Boid 3: Goal = [ 0.6189415  -0.78543709]\n",
      "Boid 4: Position = [-4.48246561 -5.03829935]\n",
      "Boid 4: Avoid = [ 0. -0.], Center = [1.32938648 1.49423278], Copy = [-0. -0.]\n",
      "Boid 4: Goal = [0.66469324 0.74711639]\n",
      "Boid 5: Position = [-4.05904996  0.70482936]\n",
      "Boid 5: Avoid = [-0. -0.], Center = [ 1.97051296 -0.3421676 ], Copy = [-0. -0.]\n",
      "Boid 5: Goal = [ 0.98525648 -0.1710838 ]\n",
      "Boid 6: Position = [-3.03413706 -1.82160629]\n",
      "Boid 6: Avoid = [-0.  0.], Center = [1.71470553 1.02945856], Copy = [-0. -0.]\n",
      "Boid 6: Goal = [0.85735277 0.51472928]\n",
      "Boid 7: Position = [-1.51669716 -0.41271812]\n",
      "Boid 7: Avoid = [0. 0.], Center = [1.9298266 0.5251374], Copy = [-0. -0.]\n",
      "Boid 7: Goal = [0.9649133 0.2625687]\n",
      "Boid 8: Position = [-2.02755441 -3.49856556]\n",
      "Boid 8: Avoid = [ 0. -0.], Center = [1.00283892 1.73040865], Copy = [-0. -0.]\n",
      "Boid 8: Goal = [0.50141946 0.86520433]\n",
      "Boid 9: Position = [-0.60786247 -2.92996478]\n",
      "Boid 9: Avoid = [ 0. -0.], Center = [0.40627693 1.95830004], Copy = [-0. -0.]\n",
      "Boid 9: Goal = [0.20313847 0.97915002]\n",
      "Boid 0: Position = [-2.17059223 -2.29203775]\n",
      "Boid 0: Avoid = [-0.  0.], Center = [1.37521817 1.45216218], Copy = [-0. -0.]\n",
      "Boid 0: Goal = [0.68760908 0.72608109]\n",
      "Boid 1: Position = [0.73132903 0.49816075]\n",
      "Boid 1: Avoid = [0. 0.], Center = [-1.65295178 -1.12594423], Copy = [-0. -0.]\n",
      "Boid 1: Goal = [-0.82647589 -0.56297211]\n",
      "Boid 2: Position = [-5.11141283 -4.95041013]\n",
      "Boid 2: Avoid = [0. 0.], Center = [1.43665897 1.39140612], Copy = [-0. -0.]\n",
      "Boid 2: Goal = [0.71832949 0.69570306]\n",
      "Boid 3: Position = [-2.37156474  1.82225025]\n",
      "Boid 3: Avoid = [0. 0.], Center = [ 1.58590389 -1.21856836], Copy = [-0. -0.]\n",
      "Boid 3: Goal = [ 0.79295194 -0.60928418]\n",
      "Boid 4: Position = [-5.44992186 -5.29133771]\n",
      "Boid 4: Avoid = [-0.  0.], Center = [1.43493665 1.39318226], Copy = [-0. -0.]\n",
      "Boid 4: Goal = [0.71746833 0.69659113]\n",
      "Boid 5: Position = [-3.93532196 -0.28748681]\n",
      "Boid 5: Avoid = [-0. -0.], Center = [1.99468454 0.14571755], Copy = [-0. -0.]\n",
      "Boid 5: Goal = [0.99734227 0.07285878]\n",
      "Boid 6: Position = [-2.82696578 -2.79991098]\n",
      "Boid 6: Avoid = [0. 0.], Center = [1.42099687 1.40739756], Copy = [-0. -0.]\n",
      "Boid 6: Goal = [0.71049844 0.70369878]\n",
      "Boid 7: Position = [-1.37900408 -1.40319307]\n",
      "Boid 7: Avoid = [0. 0.], Center = [1.40186512 1.42645511], Copy = [-0. -0.]\n",
      "Boid 7: Goal = [0.70093256 0.71322755]\n",
      "Boid 8: Position = [-3.006956  -3.2966435]\n",
      "Boid 8: Avoid = [-0. -0.], Center = [1.34779964 1.47764547], Copy = [-0. -0.]\n",
      "Boid 8: Goal = [0.67389982 0.73882274]\n",
      "Boid 9: Position = [-1.58783389 -2.73082661]\n",
      "Boid 9: Avoid = [-0. -0.], Center = [1.00530905 1.72897476], Copy = [-0. -0.]\n",
      "Boid 9: Goal = [0.50265453 0.86448738]\n",
      "Boid 0: Position = [-2.83708679 -3.03754765]\n",
      "Boid 0: Avoid = [-0. -0.], Center = [1.36516163 1.46162024], Copy = [-0. -0.]\n",
      "Boid 0: Goal = [0.68258081 0.73081012]\n",
      "Boid 1: Position = [-0.01661404 -0.16560214]\n",
      "Boid 1: Avoid = [0. 0.], Center = [0.19964782 1.99001024], Copy = [-0. -0.]\n",
      "Boid 1: Goal = [0.09982391 0.99500512]\n",
      "Boid 2: Position = [-5.03900154 -5.94778499]\n",
      "Boid 2: Avoid = [ 0. -0.], Center = [1.29282026 1.52598027], Copy = [-0. -0.]\n",
      "Boid 2: Goal = [0.64641013 0.76299013]\n",
      "Boid 3: Position = [-2.43708313  0.82439889]\n",
      "Boid 3: Avoid = [-0.  0.], Center = [ 1.89454051 -0.64087149], Copy = [-0. -0.]\n",
      "Boid 3: Goal = [ 0.94727025 -0.32043574]\n",
      "Boid 4: Position = [-6.43090594 -5.48542594]\n",
      "Boid 4: Avoid = [-0.  0.], Center = [1.52163969 1.29792628], Copy = [-0. -0.]\n",
      "Boid 4: Goal = [0.76081985 0.64896314]\n",
      "Boid 5: Position = [-3.7035092  -1.26024723]\n",
      "Boid 5: Avoid = [-0.  0.], Center = [1.89338119 0.6442885 ], Copy = [-0. -0.]\n",
      "Boid 5: Goal = [0.94669059 0.32214425]\n",
      "Boid 6: Position = [-2.52403611 -3.75292389]\n",
      "Boid 6: Avoid = [0. 0.], Center = [1.11615302 1.659579  ], Copy = [-0. -0.]\n",
      "Boid 6: Goal = [0.55807651 0.8297895 ]\n",
      "Boid 7: Position = [-1.14878298 -2.37633141]\n",
      "Boid 7: Avoid = [0. 0.], Center = [0.87047417 1.80063175], Copy = [-0. -0.]\n",
      "Boid 7: Goal = [0.43523709 0.90031588]\n",
      "Boid 8: Position = [-3.96102977 -2.99707173]\n",
      "Boid 8: Avoid = [-0.  0.], Center = [1.59490273 1.20676646], Copy = [-0. -0.]\n",
      "Boid 8: Goal = [0.79745136 0.60338323]\n",
      "Boid 9: Position = [-2.54041541 -2.4265431 ]\n",
      "Boid 9: Avoid = [ 0. -0.], Center = [1.44625575 1.38142836], Copy = [-0. -0.]\n",
      "Boid 9: Goal = [0.72312787 0.69071418]\n",
      "Boid 0: Position = [-3.50154838 -3.78487006]\n",
      "Boid 0: Avoid = [-0. -0.], Center = [1.35819758 1.46809377], Copy = [-0. -0.]\n",
      "Boid 0: Goal = [0.67909879 0.73404689]\n",
      "Boid 1: Position = [-0.81631798 -0.76599668]\n",
      "Boid 1: Avoid = [ 0. -0.], Center = [1.45845151 1.36854638], Copy = [-0. -0.]\n",
      "Boid 1: Goal = [0.72922576 0.68427319]\n",
      "Boid 2: Position = [-4.88289092 -6.93552456]\n",
      "Boid 2: Avoid = [-0. -0.], Center = [1.15135527 1.63535349], Copy = [-0. -0.]\n",
      "Boid 2: Goal = [0.57567763 0.81767675]\n",
      "Boid 3: Position = [-2.39866393 -0.17486282]\n",
      "Boid 3: Avoid = [-0.  0.], Center = [1.99470667 0.1454143 ], Copy = [-0. -0.]\n",
      "Boid 3: Goal = [0.99735333 0.07270715]\n",
      "Boid 4: Position = [-7.4217748  -5.62025507]\n",
      "Boid 4: Avoid = [-0. -0.], Center = [1.59442226 1.2074012 ], Copy = [-0. -0.]\n",
      "Boid 4: Goal = [0.79721113 0.6037006 ]\n",
      "Boid 5: Position = [-3.36506302 -2.20123298]\n",
      "Boid 5: Avoid = [ 0. -0.], Center = [1.6737115  1.09484694], Copy = [-0. -0.]\n",
      "Boid 5: Goal = [0.83685575 0.54742347]\n",
      "Boid 6: Position = [-2.13371804 -4.67360397]\n",
      "Boid 6: Avoid = [ 0. -0.], Center = [0.83062214 1.81935891], Copy = [-0. -0.]\n",
      "Boid 6: Goal = [0.41531107 0.90967946]\n",
      "Boid 7: Position = [-0.84481134 -3.32901249]\n",
      "Boid 7: Avoid = [ 0. -0.], Center = [0.49195093 1.93855211], Copy = [-0. -0.]\n",
      "Boid 7: Goal = [0.24597547 0.96927605]\n",
      "Boid 8: Position = [-4.8818233  -2.60702138]\n",
      "Boid 8: Avoid = [-0. -0.], Center = [1.7641981  0.94212795], Copy = [-0. -0.]\n",
      "Boid 8: Goal = [0.88209905 0.47106397]\n",
      "Boid 9: Position = [-3.4567936  -2.02622946]\n",
      "Boid 9: Avoid = [-0.  0.], Center = [1.72543226 1.01137704], Copy = [-0. -0.]\n",
      "Boid 9: Goal = [0.86271613 0.50568852]\n",
      "Boid 0: Position = [-4.16416213 -4.53383136]\n",
      "Boid 0: Avoid = [-0. -0.], Center = [1.35288745 1.47298865], Copy = [-0. -0.]\n",
      "Boid 0: Goal = [0.67644372 0.73649432]\n",
      "Boid 1: Position = [-1.62415022 -1.35540917]\n",
      "Boid 1: Avoid = [ 0. -0.], Center = [1.53553518 1.28145687], Copy = [-0. -0.]\n",
      "Boid 1: Goal = [0.76776759 0.64072844]\n",
      "Boid 2: Position = [-4.64458386 -7.90671442]\n",
      "Boid 2: Avoid = [ 0. -0.], Center = [1.01299905 1.72448048], Copy = [-0. -0.]\n",
      "Boid 2: Goal = [0.50649952 0.86224024]\n",
      "Boid 3: Position = [-2.24977831 -1.16371724]\n",
      "Boid 3: Avoid = [0. 0.], Center = [1.77642278 0.91887001], Copy = [-0. -0.]\n",
      "Boid 3: Goal = [0.88821139 0.45943501]\n",
      "Boid 4: Position = [-8.41896755 -5.69513245]\n",
      "Boid 4: Avoid = [-0. -0.], Center = [1.65657153 1.12061179], Copy = [-0. -0.]\n",
      "Boid 4: Goal = [0.82828576 0.56030589]\n",
      "Boid 5: Position = [-2.9249233  -3.09916228]\n",
      "Boid 5: Avoid = [-0. -0.], Center = [1.37273516 1.4545096 ], Copy = [-0. -0.]\n",
      "Boid 5: Goal = [0.68636758 0.7272548 ]\n",
      "Boid 6: Position = [-1.66368216 -5.55625128]\n",
      "Boid 6: Avoid = [-0. -0.], Center = [0.57368549 1.91595536], Copy = [-0. -0.]\n",
      "Boid 6: Goal = [0.28684275 0.95797768]\n",
      "Boid 7: Position = [-0.47978485 -4.26000963]\n",
      "Boid 7: Avoid = [ 0. -0.], Center = [0.22383545 1.98743495], Copy = [-0. -0.]\n",
      "Boid 7: Goal = [0.11191773 0.99371748]\n",
      "Boid 8: Position = [-5.76258288 -2.13345769]\n",
      "Boid 8: Avoid = [-0. -0.], Center = [1.87558573 0.6943905 ], Copy = [-0. -0.]\n",
      "Boid 8: Goal = [0.93779287 0.34719525]\n",
      "Boid 9: Position = [-4.33065397 -1.54005248]\n",
      "Boid 9: Avoid = [-0.  0.], Center = [1.88439306 0.67012147], Copy = [-0. -0.]\n",
      "Boid 9: Goal = [0.94219653 0.33506074]\n"
     ]
    },
    {
     "data": {
      "image/png": "[encoded data removed]",
      "text/plain": [
       "<Figure size 640x480 with 6 Axes>"
      ]
     },
     "metadata": {},
     "output_type": "display_data"
    }
   ],
   "source": [
    "# Simulation loop\n",
    "for step in range(num_steps):\n",
    "    # Calculate the goal and move each boid\n",
    "    for i, b in enumerate(boids):\n",
    "        # Print boid position\n",
    "        print(f\"Boid {i}: Position = {b.pos}\")\n",
    "        \n",
    "        # Update goal\n",
    "        goal_list = set_goal(b, boids, radius, angle)\n",
    "        print(f\"Boid {i}: Avoid = {goal_list[1]}, Center = {goal_list[2]}, Copy = {goal_list[3]}\")\n",
    "        goal = goal_list[0]\n",
    "        \n",
    "        # Check boid goals\n",
    "        print(f\"Boid {i}: Goal = {goal}\")\n",
    "        \n",
    "        # Update position and velocity\n",
    "        b.move(goal, mu, dt)\n",
    "    \n",
    "    # Check boid positions\n",
    "    #for i, b in enumerate(boids):\n",
    "        #print(f\"Boid {i}: Position = {b.pos}, Velocity = {b.vel}\")\n",
    "        \n",
    "    # Check boid velocities\n",
    "    #for i, b in enumerate(boids):\n",
    "        #print(f\"Boid {i}: Velocity = {b.vel}\")\n",
    "    \n",
    "    # Plotting\n",
    "    plt.subplot(2, 3, step+1)\n",
    "    for i, b in enumerate(boids):\n",
    "        plt.scatter(b.pos[0], b.pos[1], color=colors[i], s=50)\n",
    "        plt.quiver(b.pos[0], b.pos[1], b.vel[0], b.vel[1], color=colors[i], scale=0.6, scale_units='xy', angles='xy',\n",
    "                  headwidth=8, headlength=10)\n",
    "    plt.xlim(-8, 8)\n",
    "    plt.ylim(-8, 8)\n",
    "    plt.title(f\"Step {step+1}\")\n",
    "    plt.gca().set_aspect('equal', adjustable='box')\n",
    "    plt.tight_layout()\n",
    "\n",
    "plt.show()"
   ]
  },
  {
   "cell_type": "markdown",
   "id": "187e1181",
   "metadata": {},
   "source": [
    "#### Animation"
   ]
  },
  {
   "cell_type": "code",
   "execution_count": 616,
   "id": "e6575ad2",
   "metadata": {},
   "outputs": [],
   "source": [
    "# Initialize boids with random positions and 0 velocity\n",
    "np.random.seed(1)\n",
    "boids = [boid(pos_x, pos_y, 0, 0) \n",
    "         for pos_x, pos_y in zip(np.random.uniform(-5, 5, num_boids), \n",
    "                                 np.random.uniform(-5, 5, num_boids))]"
   ]
  },
  {
   "cell_type": "code",
   "execution_count": 617,
   "id": "b50edf64",
   "metadata": {},
   "outputs": [
    {
     "name": "stdout",
     "output_type": "stream",
     "text": [
      "Boid 0: Position = [-0.82977995 -0.80805486], Velocity = [0 0]\n",
      "Boid 1: Position = [2.20324493 1.852195  ], Velocity = [0 0]\n",
      "Boid 2: Position = [-4.99885625 -2.9554775 ], Velocity = [0 0]\n",
      "Boid 3: Position = [-1.97667427  3.78117436], Velocity = [0 0]\n",
      "Boid 4: Position = [-3.53244109 -4.72612407], Velocity = [0 0]\n",
      "Boid 5: Position = [-4.07661405  1.7046751 ], Velocity = [0 0]\n",
      "Boid 6: Position = [-3.13739789 -0.82695198], Velocity = [0 0]\n",
      "Boid 7: Position = [-1.54439273  0.58689828], Velocity = [0 0]\n",
      "Boid 8: Position = [-1.03232526 -3.59613061], Velocity = [0 0]\n",
      "Boid 9: Position = [ 0.38816734 -3.01898511], Velocity = [0 0]\n"
     ]
    }
   ],
   "source": [
    "# Check initial positions of boids\n",
    "for i, b in enumerate(boids):\n",
    "    print(f\"Boid {i}: Position = {b.pos}, Velocity = {b.vel}\")"
   ]
  },
  {
   "cell_type": "code",
   "execution_count": null,
   "id": "5ef81b7e",
   "metadata": {},
   "outputs": [],
   "source": [
    "# creating a blank window \n",
    "# for the animation  \n",
    "fig = plt.figure()  \n",
    "axis = plt.axes(xlim =(-8, 8), \n",
    "                ylim =(-8, 8))  \n",
    "  \n",
    "line, = axis.plot([], [], lw = 2)  \n",
    "   \n",
    "# what will our line dataset \n",
    "# contain? \n",
    "def init():  \n",
    "    line.set_data([], [])  \n",
    "    return line,  \n",
    "   \n",
    "# initializing empty values \n",
    "# for x and y co-ordinates \n",
    "xdata, ydata = [], []  \n",
    "   \n",
    "# animation function  \n",
    "def animate(i):  \n",
    "    # t is a parameter which varies \n",
    "    # with the frame number \n",
    "    t = 0.1 * i  \n",
    "       \n",
    "    # x, y values to be plotted  \n",
    "    x = t * np.sin(t)  \n",
    "    y = t * np.cos(t)  \n",
    "       \n",
    "    # appending values to the previously  \n",
    "    # empty x and y data holders  \n",
    "    xdata.append(x)  \n",
    "    ydata.append(y)  \n",
    "    line.set_data(xdata, ydata)  \n",
    "      \n",
    "    return line, \n",
    "   \n",
    "# calling the animation function      \n",
    "anim = animation.FuncAnimation(fig, animate, init_func = init,  \n",
    "                               frames = 500, interval = 20, blit = True)  \n",
    "   \n",
    "# saves the animation in our desktop \n",
    "anim.save('growingCoil.mp4', writer = 'ffmpeg', fps = 30) "
   ]
  },
  {
   "cell_type": "code",
   "execution_count": 619,
   "id": "4c218e5c",
   "metadata": {},
   "outputs": [
    {
     "ename": "AttributeError",
     "evalue": "module 'matplotlib.animation' has no attribute 'save'",
     "output_type": "error",
     "traceback": [
      "\u001b[0;31m---------------------------------------------------------------------------\u001b[0m",
      "\u001b[0;31mAttributeError\u001b[0m                            Traceback (most recent call last)",
      "Cell \u001b[0;32mIn[619], line 46\u001b[0m\n\u001b[1;32m     43\u001b[0m \u001b[38;5;66;03m# Create animation\u001b[39;00m\n\u001b[1;32m     44\u001b[0m ani \u001b[38;5;241m=\u001b[39m FuncAnimation(fig, update, frames\u001b[38;5;241m=\u001b[39m\u001b[38;5;241m100\u001b[39m, init_func\u001b[38;5;241m=\u001b[39minit, blit\u001b[38;5;241m=\u001b[39m\u001b[38;5;28;01mTrue\u001b[39;00m)\n\u001b[0;32m---> 46\u001b[0m animation\u001b[38;5;241m.\u001b[39msave(\u001b[38;5;124m'\u001b[39m\u001b[38;5;124mboid_anim.mp4\u001b[39m\u001b[38;5;124m'\u001b[39m, writer \u001b[38;5;241m=\u001b[39m \u001b[38;5;124m'\u001b[39m\u001b[38;5;124mffmpeg\u001b[39m\u001b[38;5;124m'\u001b[39m, fps \u001b[38;5;241m=\u001b[39m \u001b[38;5;241m30\u001b[39m) \n\u001b[1;32m     48\u001b[0m plt\u001b[38;5;241m.\u001b[39mshow()\n",
      "\u001b[0;31mAttributeError\u001b[0m: module 'matplotlib.animation' has no attribute 'save'"
     ]
    },
    {
     "data": {
      "image/png": "[encoded data removed]",
      "text/plain": [
       "<Figure size 600x600 with 1 Axes>"
      ]
     },
     "metadata": {},
     "output_type": "display_data"
    }
   ],
   "source": [
    "# Set up the plot\n",
    "fig, ax = plt.subplots(figsize=(6, 6))\n",
    "sc = plt.scatter([0], [0])\n",
    "quiver = plt.quiver([0], [0], [0], [0], angles='xy', scale_units='xy', scale=1)\n",
    "\n",
    "# Set axis limits and labels\n",
    "ax.set_xlim(-8, 8)\n",
    "ax.set_ylim(-8, 8)\n",
    "ax.set_aspect('equal', adjustable='box')\n",
    "ax.set_xlabel('X')\n",
    "ax.set_ylabel('Y')\n",
    "\n",
    "def init():\n",
    "    \"\"\"Initialize the scatter and quiver objects.\"\"\"\n",
    "    sc.set_offsets([[0, 0]])\n",
    "    quiver.set_offsets([[0, 0]])\n",
    "    quiver.set_UVC([0], [0])\n",
    "    return sc, quiver\n",
    "\n",
    "def update(frame):\n",
    "    \"\"\"Update the scatter plot.\"\"\"\n",
    "    positions = []\n",
    "    velocities = []\n",
    "    \n",
    "    # Calculate the goal and move each boid\n",
    "    for b in boids:\n",
    "        # Update goal\n",
    "        goal = set_goal(b, boids, radius, angle)\n",
    "        \n",
    "        # Update position and velocity\n",
    "        b.move(goal, mu, dt)\n",
    "        \n",
    "        # Store position and velocity for plotting\n",
    "        positions.append(b.pos)\n",
    "        velocities.append(b.vel)\n",
    "    \n",
    "    # Update scatter and quiver data\n",
    "    sc.set_offsets(positions)\n",
    "    quiver.set_offsets(positions)\n",
    "    quiver.set_UVC([v[0] for v in velocities], [v[1] for v in velocities])\n",
    "    return sc, quiver\n",
    "\n",
    "# Create animation\n",
    "ani = FuncAnimation(fig, update, frames=100, init_func=init, blit=True)\n",
    "\n",
    "animation.save('boid_anim.mp4', writer = 'ffmpeg', fps = 30) \n",
    "\n",
    "plt.show()"
   ]
  },
  {
   "cell_type": "code",
   "execution_count": null,
   "id": "27e8d317",
   "metadata": {},
   "outputs": [],
   "source": []
  },
  {
   "cell_type": "code",
   "execution_count": null,
   "id": "782d740d",
   "metadata": {},
   "outputs": [],
   "source": []
  },
  {
   "cell_type": "code",
   "execution_count": null,
   "id": "8b4b3d1a",
   "metadata": {},
   "outputs": [],
   "source": []
  }
 ],
 "metadata": {
  "kernelspec": {
   "display_name": "Python 3 (ipykernel)",
   "language": "python",
   "name": "python3"
  },
  "language_info": {
   "codemirror_mode": {
    "name": "ipython",
    "version": 3
   },
   "file_extension": ".py",
   "mimetype": "text/x-python",
   "name": "python",
   "nbconvert_exporter": "python",
   "pygments_lexer": "ipython3",
   "version": "3.11.4"
  }
 },
 "nbformat": 4,
 "nbformat_minor": 5
}
