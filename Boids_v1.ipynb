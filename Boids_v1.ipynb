{
 "cells": [
  {
   "cell_type": "code",
   "execution_count": 615,
   "id": "9c204b59",
   "metadata": {},
   "outputs": [],
   "source": [
    "import numpy as np\n",
    "import matplotlib.pyplot as plt\n",
    "import matplotlib.animation as animation\n",
    "from matplotlib.animation import FuncAnimation"
   ]
  },
  {
   "cell_type": "code",
   "execution_count": 573,
   "id": "257f8113",
   "metadata": {},
   "outputs": [],
   "source": [
    "# Bird object with attributes pos (2-D vector), vel (2-D vector), [axis (?)]\n",
    "\n",
    "class boid:\n",
    "    def __init__(self, pos_x, pos_y, vel_x, vel_y):\n",
    "        self.pos = np.array([pos_x, pos_y])\n",
    "        self.vel = np.array([vel_x, vel_y])\n",
    "        \n",
    "    def move(self, goal, mu, dt):\n",
    "        self.vel = (1 - mu) * self.vel + mu * goal\n",
    "        self.vel = self.vel / np.linalg.norm(self.vel)\n",
    "        self.pos += dt * self.vel"
   ]
  },
  {
   "cell_type": "code",
   "execution_count": 533,
   "id": "79cead79",
   "metadata": {},
   "outputs": [],
   "source": [
    "# Magnitude function\n",
    "\n",
    "def mag(vec):\n",
    "    magnitude = np.linalg.norm(vec)\n",
    "    return magnitude"
   ]
  },
  {
   "cell_type": "code",
   "execution_count": 534,
   "id": "9ffeae99",
   "metadata": {},
   "outputs": [],
   "source": [
    "# Angle_diff (find angle between two vectors in radians) function\n",
    "\n",
    "def angle_diff(vec1, vec2):\n",
    "    angle = np.arccos(np.dot(vec1, vec2)/(mag(vec1)*mag(vec2)))\n",
    "    return angle"
   ]
  },
  {
   "cell_type": "code",
   "execution_count": 535,
   "id": "d6c76195",
   "metadata": {},
   "outputs": [],
   "source": [
    "# Get_neighbors function finds other boids in the field of view\n",
    "\n",
    "# Takes: \"self\" = self boid, \"others\" = list of other boids, \"radius\" = radius of vision, \"angle\" = field of view\n",
    "# Returns: a list of the boids in the field of view\n",
    "\n",
    "def get_neighbors(self, others, radius, angle):\n",
    "    boids = []\n",
    "    for other in others:\n",
    "        \n",
    "        # if other boid is itself, skip it\n",
    "        if other is self:\n",
    "            continue\n",
    "\n",
    "        offset = other.pos - self.pos\n",
    "\n",
    "        # if not in range, skip it\n",
    "        if mag(offset) > radius:\n",
    "            continue\n",
    "\n",
    "        # if not within viewing angle, skip it\n",
    "        if angle_diff(self.vel, offset) > angle:\n",
    "            continue\n",
    "\n",
    "        # otherwise add it to the list\n",
    "        boids.append(other)\n",
    "\n",
    "    return boids"
   ]
  },
  {
   "cell_type": "code",
   "execution_count": 536,
   "id": "76dd6e62",
   "metadata": {},
   "outputs": [
    {
     "name": "stdout",
     "output_type": "stream",
     "text": [
      "[1 0]\n",
      "[ 1.  -0.2]\n"
     ]
    }
   ],
   "source": [
    "# Get_neighbors tester\n",
    "\n",
    "me = boid(0, 0, 1, 0) # self boid with direction on positive x-axis\n",
    "b2 = boid(1, 0, 0, 0) # other boid position (1, 0) should be in view\n",
    "b3 = boid(0, 1, 0, 0) # other boid position (0, 1) should be out of view (angle)\n",
    "b4 = boid(3, 0, 0, 0) # other boid position (0, 1) should be out of view (distance)\n",
    "b5 = boid(1, -0.2, 0, 0) # other boid position (1, -0.2) should be in view\n",
    "o = [b2, b3, b4, b5]\n",
    "\n",
    "radius = 2\n",
    "angle = np.pi/4\n",
    "\n",
    "neighbors = get_neighbors(me, o, radius, angle)\n",
    "for i, item in enumerate(neighbors):\n",
    "    print(neighbors[i].pos)\n",
    "    \n",
    "# Should print (1, 0) and (1, -0.2) representing positions of b1 and b5, the two boids in the field of view"
   ]
  },
  {
   "cell_type": "code",
   "execution_count": 537,
   "id": "e7faeac0",
   "metadata": {},
   "outputs": [],
   "source": [
    "# Center function returns a normalized vector pointing at the origin (our fixed center of mass)\n",
    "\n",
    "def center(self):\n",
    "    center_point = np.array(-self.pos) / mag(self.pos)\n",
    "    return center_point"
   ]
  },
  {
   "cell_type": "code",
   "execution_count": 538,
   "id": "c7cf7e72",
   "metadata": {},
   "outputs": [
    {
     "data": {
      "text/plain": [
       "array([-1.,  0.])"
      ]
     },
     "execution_count": 538,
     "metadata": {},
     "output_type": "execute_result"
    }
   ],
   "source": [
    "# Center tester\n",
    "\n",
    "b4 = boid(3, 0, 0, 0) # boid at position (3, 0) needs to get normalized to mag = 1\n",
    "\n",
    "center(b2)\n",
    "\n",
    "# Should print (1, 0)"
   ]
  },
  {
   "cell_type": "code",
   "execution_count": 539,
   "id": "965ad73b",
   "metadata": {},
   "outputs": [],
   "source": [
    "# Avoid function returns a normalized vector pointing directly away from the nearest visible boid\n",
    "\n",
    "def avoid(self, others, radius, angle):\n",
    "    \n",
    "    # Find all visible_boids using get_neighbors\n",
    "    visible_boids = get_neighbors(self, others, radius, angle)\n",
    "    \n",
    "    # If no visible_boids, return an empty vector\n",
    "    if not visible_boids:\n",
    "        return np.array([0, 0])\n",
    "    \n",
    "    # Find the nearest_boid out of the visible_boids\n",
    "    nearest_boid = None\n",
    "    min_distance = float('inf')  # Set initial min_distance to infinity\n",
    "\n",
    "    for other_boid in visible_boids:\n",
    "        distance = mag(other_boid.pos - self.pos)\n",
    "\n",
    "        if distance < min_distance:\n",
    "            nearest_boid = other_boid\n",
    "            min_distance = distance\n",
    "            \n",
    "    # If no nearest_boid, return an empty vector\n",
    "    if not nearest_boid:\n",
    "        return np.array([0, 0])\n",
    "    \n",
    "    # Return a normalized vector pointing directly away from nearest_boid\n",
    "    offset = nearest_boid.pos - self.pos\n",
    "    \n",
    "    if mag(offset) == 0:\n",
    "        print(\"Warning: Avoidance offset magnitude is zero.\")\n",
    "        run_away = np.array([0, 0])\n",
    "    else:\n",
    "        run_away = np.array(-offset) / mag(offset)\n",
    "    \n",
    "    return run_away"
   ]
  },
  {
   "cell_type": "code",
   "execution_count": 540,
   "id": "0be70266",
   "metadata": {},
   "outputs": [
    {
     "name": "stdout",
     "output_type": "stream",
     "text": [
      "[-1.  0.]\n",
      "[0 0]\n"
     ]
    },
    {
     "name": "stderr",
     "output_type": "stream",
     "text": [
      "/var/folders/dq/17k9n8_50ln7kw09jmqd7czm0000gn/T/ipykernel_96134/1352719432.py:4: RuntimeWarning: invalid value encountered in scalar divide\n",
      "  angle = np.arccos(np.dot(vec1, vec2)/(mag(vec1)*mag(vec2)))\n"
     ]
    }
   ],
   "source": [
    "# Avoid tester\n",
    "\n",
    "me = boid(0, 0, 0, 0)\n",
    "c1 = boid(2, 1, 0, 0)\n",
    "c2 = boid(2, 2, 0, 0)\n",
    "c3 = boid(1, 0, 0, 0) # Nearest boid\n",
    "c4 = boid(5, 2, 0, 0)\n",
    "c = [c1, c2, c3, c4]\n",
    "\n",
    "print(avoid(me, c, 10, 2*np.pi)) # Field of view encompasses all boids in c\n",
    "\n",
    "# Should print (-1, 0) as that is the vector pointing directly away from the nearest boid, c3\n",
    "\n",
    "print(avoid(me, c, 0.2, 2*np.pi)) # Tiny field of view, no boids in vision\n",
    "\n",
    "# Should print (0, 0) as no boids are visible"
   ]
  },
  {
   "cell_type": "code",
   "execution_count": 541,
   "id": "57c88a39",
   "metadata": {},
   "outputs": [],
   "source": [
    "# Copy function returns a normalized vector that matches the velocity of visible boids\n",
    "\n",
    "def copy(self, others, radius, angle):\n",
    "    \n",
    "    # Find all visible_boids using get_neighbors\n",
    "    visible_boids = get_neighbors(self, others, radius, angle)\n",
    "    \n",
    "    # Check if no visible_boids\n",
    "    if not visible_boids:\n",
    "        print(\"Warning: No visible boids found.\")\n",
    "    \n",
    "    # Add together all velocities of visible_boids to represent copying directions of all visible_boids\n",
    "    velocities = []\n",
    "    for i, item in enumerate(visible_boids):\n",
    "        velocity = visible_boids[i].vel\n",
    "        velocities.append(velocity)\n",
    "        \n",
    "    # Check if all velocities = 0\n",
    "    if all(np.all(vel == 0) for vel in velocities):\n",
    "        print(\"Warning: All visible boids have zero velocity.\")\n",
    "            \n",
    "    # Return a normalized vector of aligned velocities\n",
    "    if mag(np.sum(velocities, axis=0)) == 0:\n",
    "        print(\"Warning: Copy velocity vector magnitude is zero.\")\n",
    "        follow_the_flock = np.array([0, 0])\n",
    "    else:\n",
    "        follow_the_flock = np.sum(velocities, axis=0) / mag(np.sum(velocities, axis=0))\n",
    "    \n",
    "    return follow_the_flock"
   ]
  },
  {
   "cell_type": "code",
   "execution_count": 542,
   "id": "1c6ab2ec",
   "metadata": {},
   "outputs": [
    {
     "name": "stderr",
     "output_type": "stream",
     "text": [
      "/var/folders/dq/17k9n8_50ln7kw09jmqd7czm0000gn/T/ipykernel_96134/1352719432.py:4: RuntimeWarning: invalid value encountered in scalar divide\n",
      "  angle = np.arccos(np.dot(vec1, vec2)/(mag(vec1)*mag(vec2)))\n"
     ]
    },
    {
     "data": {
      "text/plain": [
       "array([0., 1.])"
      ]
     },
     "execution_count": 542,
     "metadata": {},
     "output_type": "execute_result"
    }
   ],
   "source": [
    "# Copy tester\n",
    "\n",
    "me = boid(0, 0, 0, 0)\n",
    "c1 = boid(2, 1, 1, 1)\n",
    "c2 = boid(2, 2, -1, 0)\n",
    "c = [c1, c2]\n",
    "\n",
    "copy(me, c, 10, 2*np.pi) # Field of view encompasses all boids in c\n",
    "\n",
    "# Should print (0, 1) as that is the copy vector"
   ]
  },
  {
   "cell_type": "code",
   "execution_count": 621,
   "id": "fd8828c9",
   "metadata": {},
   "outputs": [],
   "source": [
    "# Set_goal computes the weighted sum of the goals and sets the overall goal\n",
    "\n",
    "# Takes: self, others, radius, angle\n",
    "# Returns: normalized weighted goal vector\n",
    "\n",
    "def set_goal(self, others, radius, angle):\n",
    "    \n",
    "    goal = (w_avoid*avoid(self, others, radius, angle) + w_center*center(self)\n",
    "            + w_copy*copy(self, others, radius, angle))\n",
    "    \n",
    "    if mag(goal) == 0:\n",
    "        print(\"Warning: Goal vector magnitude is zero.\")\n",
    "        goal_norm = np.array([0, 0])\n",
    "    else:\n",
    "        goal_norm = goal / mag(goal)\n",
    "    \n",
    "    return [goal_norm, w_avoid*avoid(self, others, radius, angle), w_center*center(self),\n",
    "                       w_copy*copy(self, others, radius, angle)]"
   ]
  },
  {
   "cell_type": "code",
   "execution_count": 544,
   "id": "eebdbacf",
   "metadata": {},
   "outputs": [],
   "source": [
    "# move updates the velocity, position and attitude of the boid:\n",
    "# The parameter mu determines how quickly the birds can change speed and direction\n",
    "# The time step, dt determines how far the boids move.\n",
    "#def move(self, goal, mu=0.1):\n",
    "    #self.vel = (1-mu) * self.vel + mu * goal\n",
    "    #self.vel = self.vel / mag(self.vel)\n",
    "\n",
    "    #self.pos += dt * self.vel"
   ]
  },
  {
   "cell_type": "markdown",
   "id": "c4a5e3f4",
   "metadata": {},
   "source": [
    "### Simulation"
   ]
  },
  {
   "cell_type": "code",
   "execution_count": 627,
   "id": "835f1a68",
   "metadata": {},
   "outputs": [
    {
     "name": "stdout",
     "output_type": "stream",
     "text": [
      "Wsum 2.0\n"
     ]
    }
   ],
   "source": [
    "num_boids = 10  # Number of boids\n",
    "num_steps = 6  # Number of time steps in the simulation\n",
    "mu = 0.1  # Speed/direction change factor\n",
    "dt = 1  # Time step size\n",
    "\n",
    "radius = 5\n",
    "angle = np.pi\n",
    "\n",
    "w_avoid = 2/3\n",
    "w_center = 2/3\n",
    "w_copy = 2/3\n",
    "\n",
    "print('Wsum', w_avoid + w_center + w_copy)"
   ]
  },
  {
   "cell_type": "code",
   "execution_count": 628,
   "id": "2c2d31e4",
   "metadata": {},
   "outputs": [],
   "source": [
    "# Initialize boids with random positions and 0 velocity\n",
    "np.random.seed(1)\n",
    "boids = [boid(pos_x, pos_y, 0, 0) \n",
    "         for pos_x, pos_y in zip(np.random.uniform(-5, 5, num_boids), \n",
    "                                 np.random.uniform(-5, 5, num_boids))]"
   ]
  },
  {
   "cell_type": "code",
   "execution_count": 629,
   "id": "c16243e8",
   "metadata": {},
   "outputs": [
    {
     "name": "stdout",
     "output_type": "stream",
     "text": [
      "Boid 0: Position = [-0.82977995 -0.80805486], Velocity = [0 0]\n",
      "Boid 1: Position = [2.20324493 1.852195  ], Velocity = [0 0]\n",
      "Boid 2: Position = [-4.99885625 -2.9554775 ], Velocity = [0 0]\n",
      "Boid 3: Position = [-1.97667427  3.78117436], Velocity = [0 0]\n",
      "Boid 4: Position = [-3.53244109 -4.72612407], Velocity = [0 0]\n",
      "Boid 5: Position = [-4.07661405  1.7046751 ], Velocity = [0 0]\n",
      "Boid 6: Position = [-3.13739789 -0.82695198], Velocity = [0 0]\n",
      "Boid 7: Position = [-1.54439273  0.58689828], Velocity = [0 0]\n",
      "Boid 8: Position = [-1.03232526 -3.59613061], Velocity = [0 0]\n",
      "Boid 9: Position = [ 0.38816734 -3.01898511], Velocity = [0 0]\n"
     ]
    }
   ],
   "source": [
    "# Check initial positions of boids\n",
    "for i, b in enumerate(boids):\n",
    "    print(f\"Boid {i}: Position = {b.pos}, Velocity = {b.vel}\")"
   ]
  },
  {
   "cell_type": "code",
   "execution_count": 630,
   "id": "874fa73e",
   "metadata": {},
   "outputs": [
    {
     "data": {
      "text/plain": [
       "<Figure size 1000x600 with 0 Axes>"
      ]
     },
     "metadata": {},
     "output_type": "display_data"
    }
   ],
   "source": [
    "plt.figure(figsize=(10, 6))\n",
    "colors = plt.cm.tab10(np.linspace(0, 1, num_boids))"
   ]
  },
  {
   "cell_type": "code",
   "execution_count": 631,
   "id": "bf14844f",
   "metadata": {},
   "outputs": [
    {
     "name": "stderr",
     "output_type": "stream",
     "text": [
      "/var/folders/dq/17k9n8_50ln7kw09jmqd7czm0000gn/T/ipykernel_96134/1352719432.py:4: RuntimeWarning: invalid value encountered in scalar divide\n",
      "  angle = np.arccos(np.dot(vec1, vec2)/(mag(vec1)*mag(vec2)))\n"
     ]
    },
    {
     "name": "stdout",
     "output_type": "stream",
     "text": [
      "Warning: All visible boids have zero velocity.\n",
      "Warning: Copy velocity vector magnitude is zero.\n",
      "Warning: All visible boids have zero velocity.\n",
      "Warning: Copy velocity vector magnitude is zero.\n",
      "[array([ 0.98680688, -0.16190178]), array([ 0.30395922, -0.59334074]), array([0.47761546, 0.46511065]), array([0., 0.])]\n",
      "Boid 0: Goal = [ 0.98680688 -0.16190178]\n",
      "[array([0.99998653, 0.00519049]), array([0.39133153, 0.53972593]), array([-0.51030227, -0.42899421]), array([ 0.65787125, -0.10793452])]\n",
      "Boid 1: Goal = [0.99998653 0.00519049]\n",
      "Warning: All visible boids have zero velocity.\n",
      "Warning: Copy velocity vector magnitude is zero.\n",
      "Warning: All visible boids have zero velocity.\n",
      "Warning: Copy velocity vector magnitude is zero.\n",
      "[array([0.17172467, 0.98514498]), array([-0.42522625,  0.51344628]), array([0.57387016, 0.33928968]), array([0., 0.])]\n",
      "Boid 2: Goal = [0.17172467 0.98514498]\n",
      "Warning: All visible boids have zero velocity.\n",
      "Warning: Copy velocity vector magnitude is zero.\n",
      "Warning: All visible boids have zero velocity.\n",
      "Warning: Copy velocity vector magnitude is zero.\n",
      "[array([ 0.9880643 , -0.15404197]), array([0.47404284, 0.46875135]), array([ 0.30885471, -0.59080726]), array([0., 0.])]\n",
      "Boid 3: Goal = [ 0.9880643  -0.15404197]\n",
      "[array([-0.10194986,  0.99478954]), array([-0.60749753, -0.27457457]), array([0.39912073, 0.53399166]), array([0.11448311, 0.65676332])]\n",
      "Boid 4: Goal = [-0.10194986  0.99478954]\n",
      "[array([0.77424689, 0.63288368]), array([-0.23188515,  0.62503898]), array([ 0.61505813, -0.25719243]), array([0.54189558, 0.38832155])]\n",
      "Boid 5: Goal = [0.77424689 0.63288368]\n",
      "[array([0.87141542, 0.49054578]), array([0.55213959, 0.37361252]), array([0.64464951, 0.16991603]), array([0.51682343, 0.42111517])]\n",
      "Boid 6: Goal = [0.87141542 0.49054578]\n",
      "[array([0.93107078, 0.3648386 ]), array([0.41052054, 0.52527833]), array([ 0.62318516, -0.23682208]), array([0.57282066, 0.34105854])]\n",
      "Boid 7: Goal = [0.93107078 0.3648386 ]\n",
      "[array([0.06289578, 0.9980201 ]), array([-0.61763371, -0.2509443 ]), array([0.18394781, 0.64078674]), array([0.48694912, 0.45532955])]\n",
      "Boid 8: Goal = [0.06289578 0.9980201 ]\n",
      "[array([0.74191473, 0.67049424]), array([ 0.63676895, -0.19740756]), array([-0.0850171 ,  0.66122351]), array([0.47691639, 0.46582744])]\n",
      "Boid 9: Goal = [0.74191473 0.67049424]\n",
      "[array([0.02478554, 0.99969279]), array([-0.38444813,  0.54465042]), array([-0.10654001,  0.65809853]), array([0.53080826, 0.40334481])]\n",
      "Boid 0: Goal = [0.02478554 0.99969279]\n",
      "[array([0.79048161, 0.61248577]), array([0.38641076, 0.54325976]), array([-0.57672565, -0.33441288]), array([0.65015608, 0.14745006])]\n",
      "Boid 1: Goal = [0.79048161 0.61248577]\n",
      "[array([0.3658003 , 0.93069337]), array([-0.37385661,  0.55197435]), array([0.61722842, 0.25193952]), array([0.30549566, 0.59255113])]\n",
      "Boid 2: Goal = [0.3658003  0.93069337]\n",
      "[array([0.99993863, 0.01107829]), array([0.58232725, 0.32456035]), array([ 0.17531126, -0.64320324]), array([0.57729297, 0.33343255])]\n",
      "Boid 3: Goal = [0.99993863 0.01107829]\n",
      "[array([0.23674201, 0.97157255]), array([-0.61350294, -0.26088042]), array([0.46515987, 0.47756752]), array([0.34076423, 0.5729958 ])]\n",
      "Boid 4: Goal = [0.23674201 0.97157255]\n",
      "[array([0.8416425, 0.5400351]), array([-0.24092584,  0.62161016]), array([ 0.54414204, -0.38516735]), array([0.57934779, 0.32984933])]\n",
      "Boid 5: Goal = [0.8416425 0.5400351]\n",
      "[array([0.97149531, 0.23705877]), array([-0.52581199, -0.40983679]), array([0.6594392 , 0.09789989]), array([0.48076264, 0.46185682])]\n",
      "Boid 6: Goal = [0.97149531 0.23705877]\n",
      "[array([0.9668262 , 0.25543512]), array([0.45540188, 0.48688148]), array([ 0.36112607, -0.56038594]), array([0.51367931, 0.42494472])]\n",
      "Boid 7: Goal = [0.9668262  0.25543512]\n",
      "[array([0.05956927, 0.99822417]), array([-0.6620041 , -0.07870842]), array([0.23305723, 0.62460289]), array([0.48859005, 0.45356831])]\n",
      "Boid 8: Goal = [0.05956927 0.99822417]\n",
      "[array([0.39645918, 0.91805235]), array([-0.01287066, -0.66654241]), array([-0.2890707 ,  0.60073503]), array([0.47537049, 0.4674049 ])]\n",
      "Boid 9: Goal = [0.39645918 0.91805235]\n",
      "[array([-0.31829801,  0.9479907 ]), array([-0.49285996,  0.44892483]), array([-0.49956894,  0.44144685]), array([0.58797956, 0.31420452])]\n",
      "Boid 0: Goal = [-0.31829801  0.9479907 ]\n",
      "[array([0.69431066, 0.71967542]), array([0.38533053, 0.54402649]), array([-0.60609133, -0.2776648 ]), array([0.64400461, 0.17234417])]\n",
      "Boid 1: Goal = [0.69431066 0.71967542]\n",
      "[array([0.44524719, 0.8954077 ]), array([-0.31431263,  0.58792178]), array([0.65199815, 0.1390786 ]), array([0.31577735, 0.58713636])]\n",
      "Boid 2: Goal = [0.44524719 0.8954077 ]\n",
      "[array([0.901021  , 0.43377546]), array([-0.09667144,  0.6596204 ]), array([-3.56128884e-04, -6.66666572e-01]), array([0.61531978, 0.25656582])]\n",
      "Boid 3: Goal = [0.901021   0.43377546]\n",
      "[array([0.94225453, 0.33489759]), array([ 0.16949262, -0.64476096]), array([0.53633844, 0.39596151]), array([0.2870649 , 0.60169609])]\n",
      "Boid 4: Goal = [0.94225453 0.33489759]\n",
      "[array([0.70288347, 0.71130501]), array([-0.2488832 ,  0.61846713]), array([ 0.4321257 , -0.50765325]), array([0.42982698, 0.50960103])]\n",
      "Boid 5: Goal = [0.70288347 0.71130501]\n",
      "[array([0.67726114, 0.73574272]), array([-0.17637914,  0.64291123]), array([ 0.66371904, -0.06262176]), array([0.47625103, 0.46650766])]\n",
      "Boid 6: Goal = [0.67726114 0.73574272]\n",
      "[array([0.98577355, 0.16807889]), array([0.51723412, 0.42061063]), array([-0.15955305, -0.64729226]), array([0.54710198, 0.38095127])]\n",
      "Boid 7: Goal = [0.98577355 0.16807889]\n",
      "[array([0.87743725, 0.47969144]), array([-0.11600388, -0.65649642]), array([0.32871902, 0.57998987]), array([0.48466412, 0.457761  ])]\n",
      "Boid 8: Goal = [0.87743725 0.47969144]\n",
      "[array([-0.78788733,  0.61581942]), array([-0.27641555, -0.60666209]), array([-0.49705841,  0.44427175]), array([0.59400013, 0.30266861])]\n",
      "Boid 9: Goal = [-0.78788733  0.61581942]\n",
      "[array([-0.84803042,  0.52994755]), array([-0.63987164, -0.18710618]), array([-0.60838255,  0.27260798]), array([0.57696715, 0.33399603])]\n",
      "Boid 0: Goal = [-0.84803042  0.52994755]\n",
      "[array([0.6199382 , 0.78465064]), array([0.38432307, 0.54473867]), array([-0.61966126, -0.24589504]), array([0.63408931, 0.20585236])]\n",
      "Boid 1: Goal = [0.6199382  0.78465064]\n",
      "[array([0.52737298, 0.84963388]), array([-0.26635305,  0.61114687]), array([0.66666387, 0.00192998]), array([0.33719867, 0.5751013 ])]\n",
      "Boid 2: Goal = [0.52737298 0.84963388]\n",
      "[array([0.49322429, 0.86990218]), array([-0.09902052,  0.65927186]), array([-0.18746565, -0.63976642]), array([0.52818302, 0.40677652])]\n",
      "Boid 3: Goal = [0.49322429 0.86990218]\n",
      "[array([0.97763833, 0.21029336]), array([ 0.12194803, -0.65541828]), array([0.60268834, 0.28497581]), array([0.30621169, 0.59218143])]\n",
      "Boid 4: Goal = [0.97763833 0.21029336]\n",
      "[array([0.67880703, 0.7343167 ]), array([-0.25583619,  0.6156235 ]), array([ 0.29138866, -0.59961412]), array([0.44122915, 0.49976123])]\n",
      "Boid 5: Goal = [0.67880703 0.7343167 ]\n",
      "[array([0.8595216 , 0.51109943]), array([0.12837449, 0.65418991]), array([ 0.42252612, -0.51567056]), array([0.47267418, 0.47013143])]\n",
      "Boid 6: Goal = [0.8595216  0.51109943]\n",
      "[array([0.98125954, 0.19269074]), array([0.57945698, 0.32965748]), array([-0.4066169 , -0.52830591]), array([0.57066617, 0.34465137])]\n",
      "Boid 7: Goal = [0.98125954 0.19269074]\n",
      "[array([0.93225545, 0.36180073]), array([-0.35922642, -0.56160558]), array([0.51844178, 0.41912119]), array([0.52670739, 0.40868541])]\n",
      "Boid 8: Goal = [0.93225545 0.36180073]\n",
      "[array([-0.83423754,  0.55140524]), array([-0.66588986, -0.03217353]), array([-0.6287861,  0.2215231]), array([0.61350037, 0.26088645])]\n",
      "Boid 9: Goal = [-0.83423754  0.55140524]\n",
      "[array([ 0.20741641, -0.97825275]), array([ 0.10675549, -0.65806361]), array([-0.64414573,  0.17181595]), array([0.56569513, 0.35275127])]\n",
      "Boid 0: Goal = [ 0.20741641 -0.97825275]\n",
      "[array([0.56296707, 0.82647933]), array([0.3654903 , 0.55754936]), array([-0.62580251, -0.22981657]), array([0.63069739, 0.21602139])]\n",
      "Boid 1: Goal = [0.56296707 0.82647933]\n",
      "[array([0.6009253 , 0.79930519]), array([-0.23479989,  0.62394988]), array([ 0.64981222, -0.14895815]), array([0.36265269, 0.55939921])]\n",
      "Boid 2: Goal = [0.6009253  0.79930519]\n",
      "[array([0.20126898, 0.97953601]), array([-0.09595261,  0.65972535]), array([-0.33621262, -0.57567831]), array([0.53199075, 0.40178388])]\n",
      "Boid 3: Goal = [0.20126898 0.97953601]\n",
      "[array([0.99869938, 0.05098569]), array([ 0.08770179, -0.66087279]), array([0.65232473, 0.13753868]), array([0.33208749, 0.57806777])]\n",
      "Boid 4: Goal = [0.99869938 0.05098569]\n",
      "[array([0.60452505, 0.79658613]), array([-0.26277012,  0.61269593]), array([ 0.15042116, -0.64947511]), array([0.45453997, 0.48768623])]\n",
      "Boid 5: Goal = [0.60452505 0.79658613]\n",
      "[array([0.94530822, 0.32617843]), array([0.50078776, 0.4400637 ]), array([-0.20017302, -0.63590503]), array([0.4781552 , 0.46455576])]\n",
      "Boid 6: Goal = [0.94530822 0.32617843]\n",
      "[array([0.98002703, 0.19886431]), array([0.62613038, 0.22892181]), array([-0.49837028, -0.44279963]), array([0.56467344, 0.35438447])]\n",
      "Boid 7: Goal = [0.98002703 0.19886431]\n",
      "[array([ 0.82800832, -0.56071581]), array([-0.54272196, -0.38716575]), array([ 0.54726897, -0.38071134]), array([0.52762907, 0.40749479])]\n",
      "Boid 8: Goal = [ 0.82800832 -0.56071581]\n",
      "[array([-0.67908545,  0.73405923]), array([-0.54618688,  0.38226213]), array([-0.66663254,  0.00674531]), array([0.61509489, 0.25710449])]\n",
      "Boid 9: Goal = [-0.67908545  0.73405923]\n",
      "[array([ 0.78221625, -0.62300701]), array([ 0.24979372, -0.61809995]), array([-0.65393517,  0.12966589]), array([0.55650015, 0.36708585])]\n",
      "Boid 0: Goal = [ 0.78221625 -0.62300701]\n",
      "[array([0.49209602, 0.87054093]), array([0.33557651, 0.57604934]), array([-0.62800311, -0.22373319]), array([0.62409344, 0.23441804])]\n",
      "Boid 1: Goal = [0.49209602 0.87054093]\n",
      "[array([0.59428656, 0.80425337]), array([-0.22206375,  0.62859537]), array([ 0.59795313, -0.29478212]), array([0.30776139, 0.59137752])]\n",
      "Boid 2: Goal = [0.59428656 0.80425337]\n",
      "[array([0.03094052, 0.99952123]), array([-0.0886034 ,  0.66075251]), array([-0.4301965 , -0.50928912]), array([0.53576945, 0.39673107])]\n",
      "Boid 3: Goal = [0.03094052 0.99952123]\n",
      "[array([ 0.99082969, -0.13511668]), array([ 0.06965366, -0.66301796]), array([ 0.66509631, -0.04573113]), array([0.36323758, 0.55901959])]\n",
      "Boid 4: Goal = [ 0.99082969 -0.13511668]\n",
      "[array([0.71902241, 0.69498689]), array([-0.01060048,  0.66658238]), array([ 0.03137676, -0.66592788]), array([0.46953502, 0.47326664])]\n",
      "Boid 5: Goal = [0.71902241 0.69498689]\n",
      "[array([0.99514809, 0.09838843]), array([0.65128203, 0.14239437]), array([-0.4055043 , -0.52916038]), array([0.48360591, 0.45887882])]\n",
      "Boid 6: Goal = [0.99514809 0.09838843]\n",
      "[array([0.9861406 , 0.16591176]), array([0.65186822, 0.13968634]), array([-0.5411958 , -0.38929622]), array([0.55957892, 0.36237532])]\n",
      "Boid 7: Goal = [0.9861406  0.16591176]\n",
      "[array([-0.14322973, -0.98968947]), array([-0.63352554, -0.20758092]), array([ 0.08831468, -0.66079116]), array([0.48563705, 0.4567287 ])]\n",
      "Boid 8: Goal = [-0.14322973 -0.98968947]\n",
      "[array([ 0.80979868, -0.58670784]), array([ 0.49854347, -0.44260462]), array([-0.64693465, -0.16099689]), array([0.60987565, 0.26925106])]\n",
      "Boid 9: Goal = [ 0.80979868 -0.58670784]\n"
     ]
    },
    {
     "data": {
      "image/png": "[encoded data removed]",
      "text/plain": [
       "<Figure size 640x480 with 6 Axes>"
      ]
     },
     "metadata": {},
     "output_type": "display_data"
    }
   ],
   "source": [
    "# Simulation loop\n",
    "for step in range(num_steps):\n",
    "    # Calculate the goal and move each boid\n",
    "    for i, b in enumerate(boids):\n",
    "        # Update goal\n",
    "        goal_list = set_goal(b, boids, radius, angle)\n",
    "        print(goal_list)\n",
    "        goal = goal_list[0]\n",
    "        \n",
    "        # Check boid goals\n",
    "        print(f\"Boid {i}: Goal = {goal}\")\n",
    "        \n",
    "        # Update position and velocity\n",
    "        b.move(goal, mu, dt)\n",
    "    \n",
    "    # Check boid positions\n",
    "    #for i, b in enumerate(boids):\n",
    "        #print(f\"Boid {i}: Position = {b.pos}, Velocity = {b.vel}\")\n",
    "        \n",
    "    # Check boid velocities\n",
    "    #for i, b in enumerate(boids):\n",
    "        #print(f\"Boid {i}: Velocity = {b.vel}\")\n",
    "    \n",
    "    # Plotting\n",
    "    plt.subplot(2, 3, step+1)\n",
    "    for i, b in enumerate(boids):\n",
    "        plt.scatter(b.pos[0], b.pos[1], color=colors[i], s=50)\n",
    "        plt.quiver(b.pos[0], b.pos[1], b.vel[0], b.vel[1], color=colors[i], scale=10, scale_units='xy', angles='xy')\n",
    "    plt.xlim(-8, 8)\n",
    "    plt.ylim(-8, 8)\n",
    "    plt.title(f\"Step {step+1}\")\n",
    "    plt.gca().set_aspect('equal', adjustable='box')\n",
    "    plt.tight_layout()\n",
    "\n",
    "plt.show()"
   ]
  },
  {
   "cell_type": "markdown",
   "id": "fa4b2dbd",
   "metadata": {},
   "source": [
    "#### Animation"
   ]
  },
  {
   "cell_type": "code",
   "execution_count": 616,
   "id": "c52acdc4",
   "metadata": {},
   "outputs": [],
   "source": [
    "# Initialize boids with random positions and 0 velocity\n",
    "np.random.seed(1)\n",
    "boids = [boid(pos_x, pos_y, 0, 0) \n",
    "         for pos_x, pos_y in zip(np.random.uniform(-5, 5, num_boids), \n",
    "                                 np.random.uniform(-5, 5, num_boids))]"
   ]
  },
  {
   "cell_type": "code",
   "execution_count": 617,
   "id": "289918da",
   "metadata": {},
   "outputs": [
    {
     "name": "stdout",
     "output_type": "stream",
     "text": [
      "Boid 0: Position = [-0.82977995 -0.80805486], Velocity = [0 0]\n",
      "Boid 1: Position = [2.20324493 1.852195  ], Velocity = [0 0]\n",
      "Boid 2: Position = [-4.99885625 -2.9554775 ], Velocity = [0 0]\n",
      "Boid 3: Position = [-1.97667427  3.78117436], Velocity = [0 0]\n",
      "Boid 4: Position = [-3.53244109 -4.72612407], Velocity = [0 0]\n",
      "Boid 5: Position = [-4.07661405  1.7046751 ], Velocity = [0 0]\n",
      "Boid 6: Position = [-3.13739789 -0.82695198], Velocity = [0 0]\n",
      "Boid 7: Position = [-1.54439273  0.58689828], Velocity = [0 0]\n",
      "Boid 8: Position = [-1.03232526 -3.59613061], Velocity = [0 0]\n",
      "Boid 9: Position = [ 0.38816734 -3.01898511], Velocity = [0 0]\n"
     ]
    }
   ],
   "source": [
    "# Check initial positions of boids\n",
    "for i, b in enumerate(boids):\n",
    "    print(f\"Boid {i}: Position = {b.pos}, Velocity = {b.vel}\")"
   ]
  },
  {
   "cell_type": "code",
   "execution_count": null,
   "id": "7639f456",
   "metadata": {},
   "outputs": [],
   "source": [
    "# creating a blank window \n",
    "# for the animation  \n",
    "fig = plt.figure()  \n",
    "axis = plt.axes(xlim =(-8, 8), \n",
    "                ylim =(-8, 8))  \n",
    "  \n",
    "line, = axis.plot([], [], lw = 2)  \n",
    "   \n",
    "# what will our line dataset \n",
    "# contain? \n",
    "def init():  \n",
    "    line.set_data([], [])  \n",
    "    return line,  \n",
    "   \n",
    "# initializing empty values \n",
    "# for x and y co-ordinates \n",
    "xdata, ydata = [], []  \n",
    "   \n",
    "# animation function  \n",
    "def animate(i):  \n",
    "    # t is a parameter which varies \n",
    "    # with the frame number \n",
    "    t = 0.1 * i  \n",
    "       \n",
    "    # x, y values to be plotted  \n",
    "    x = t * np.sin(t)  \n",
    "    y = t * np.cos(t)  \n",
    "       \n",
    "    # appending values to the previously  \n",
    "    # empty x and y data holders  \n",
    "    xdata.append(x)  \n",
    "    ydata.append(y)  \n",
    "    line.set_data(xdata, ydata)  \n",
    "      \n",
    "    return line, \n",
    "   \n",
    "# calling the animation function      \n",
    "anim = animation.FuncAnimation(fig, animate, init_func = init,  \n",
    "                               frames = 500, interval = 20, blit = True)  \n",
    "   \n",
    "# saves the animation in our desktop \n",
    "anim.save('growingCoil.mp4', writer = 'ffmpeg', fps = 30) "
   ]
  },
  {
   "cell_type": "code",
   "execution_count": 619,
   "id": "119b7f95",
   "metadata": {},
   "outputs": [
    {
     "ename": "AttributeError",
     "evalue": "module 'matplotlib.animation' has no attribute 'save'",
     "output_type": "error",
     "traceback": [
      "\u001b[0;31m---------------------------------------------------------------------------\u001b[0m",
      "\u001b[0;31mAttributeError\u001b[0m                            Traceback (most recent call last)",
      "Cell \u001b[0;32mIn[619], line 46\u001b[0m\n\u001b[1;32m     43\u001b[0m \u001b[38;5;66;03m# Create animation\u001b[39;00m\n\u001b[1;32m     44\u001b[0m ani \u001b[38;5;241m=\u001b[39m FuncAnimation(fig, update, frames\u001b[38;5;241m=\u001b[39m\u001b[38;5;241m100\u001b[39m, init_func\u001b[38;5;241m=\u001b[39minit, blit\u001b[38;5;241m=\u001b[39m\u001b[38;5;28;01mTrue\u001b[39;00m)\n\u001b[0;32m---> 46\u001b[0m animation\u001b[38;5;241m.\u001b[39msave(\u001b[38;5;124m'\u001b[39m\u001b[38;5;124mboid_anim.mp4\u001b[39m\u001b[38;5;124m'\u001b[39m, writer \u001b[38;5;241m=\u001b[39m \u001b[38;5;124m'\u001b[39m\u001b[38;5;124mffmpeg\u001b[39m\u001b[38;5;124m'\u001b[39m, fps \u001b[38;5;241m=\u001b[39m \u001b[38;5;241m30\u001b[39m) \n\u001b[1;32m     48\u001b[0m plt\u001b[38;5;241m.\u001b[39mshow()\n",
      "\u001b[0;31mAttributeError\u001b[0m: module 'matplotlib.animation' has no attribute 'save'"
     ]
    },
    {
     "data": {
      "image/png": "[encoded data removed]",
      "text/plain": [
       "<Figure size 600x600 with 1 Axes>"
      ]
     },
     "metadata": {},
     "output_type": "display_data"
    }
   ],
   "source": [
    "# Set up the plot\n",
    "fig, ax = plt.subplots(figsize=(6, 6))\n",
    "sc = plt.scatter([0], [0])\n",
    "quiver = plt.quiver([0], [0], [0], [0], angles='xy', scale_units='xy', scale=1)\n",
    "\n",
    "# Set axis limits and labels\n",
    "ax.set_xlim(-8, 8)\n",
    "ax.set_ylim(-8, 8)\n",
    "ax.set_aspect('equal', adjustable='box')\n",
    "ax.set_xlabel('X')\n",
    "ax.set_ylabel('Y')\n",
    "\n",
    "def init():\n",
    "    \"\"\"Initialize the scatter and quiver objects.\"\"\"\n",
    "    sc.set_offsets([[0, 0]])\n",
    "    quiver.set_offsets([[0, 0]])\n",
    "    quiver.set_UVC([0], [0])\n",
    "    return sc, quiver\n",
    "\n",
    "def update(frame):\n",
    "    \"\"\"Update the scatter plot.\"\"\"\n",
    "    positions = []\n",
    "    velocities = []\n",
    "    \n",
    "    # Calculate the goal and move each boid\n",
    "    for b in boids:\n",
    "        # Update goal\n",
    "        goal = set_goal(b, boids, radius, angle)\n",
    "        \n",
    "        # Update position and velocity\n",
    "        b.move(goal, mu, dt)\n",
    "        \n",
    "        # Store position and velocity for plotting\n",
    "        positions.append(b.pos)\n",
    "        velocities.append(b.vel)\n",
    "    \n",
    "    # Update scatter and quiver data\n",
    "    sc.set_offsets(positions)\n",
    "    quiver.set_offsets(positions)\n",
    "    quiver.set_UVC([v[0] for v in velocities], [v[1] for v in velocities])\n",
    "    return sc, quiver\n",
    "\n",
    "# Create animation\n",
    "ani = FuncAnimation(fig, update, frames=100, init_func=init, blit=True)\n",
    "\n",
    "animation.save('boid_anim.mp4', writer = 'ffmpeg', fps = 30) \n",
    "\n",
    "plt.show()"
   ]
  },
  {
   "cell_type": "code",
   "execution_count": null,
   "id": "6766b88f",
   "metadata": {},
   "outputs": [],
   "source": []
  },
  {
   "cell_type": "code",
   "execution_count": null,
   "id": "091d9f12",
   "metadata": {},
   "outputs": [],
   "source": []
  },
  {
   "cell_type": "code",
   "execution_count": null,
   "id": "9c77e3e8",
   "metadata": {},
   "outputs": [],
   "source": []
  }
 ],
 "metadata": {
  "kernelspec": {
   "display_name": "Python 3 (ipykernel)",
   "language": "python",
   "name": "python3"
  },
  "language_info": {
   "codemirror_mode": {
    "name": "ipython",
    "version": 3
   },
   "file_extension": ".py",
   "mimetype": "text/x-python",
   "name": "python",
   "nbconvert_exporter": "python",
   "pygments_lexer": "ipython3",
   "version": "3.11.4"
  }
 },
 "nbformat": 4,
 "nbformat_minor": 5
}
