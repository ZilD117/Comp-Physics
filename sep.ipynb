{
 "cells": [
  {
   "cell_type": "code",
   "execution_count": 30,
   "metadata": {},
   "outputs": [
    {
     "data": {
      "text/plain": [
       "array([[0., 0., 0., ..., 0., 0., 0.],\n",
       "       [0., 0., 0., ..., 0., 0., 0.],\n",
       "       [0., 0., 0., ..., 0., 0., 0.],\n",
       "       ...,\n",
       "       [0., 0., 0., ..., 0., 0., 0.],\n",
       "       [0., 0., 0., ..., 0., 0., 0.],\n",
       "       [0., 0., 0., ..., 0., 0., 0.]])"
      ]
     },
     "execution_count": 30,
     "metadata": {},
     "output_type": "execute_result"
    }
   ],
   "source": [
    "import numpy as np\n",
    "\n",
    "range_low, range_high = complex(-2,-2), complex(2,2)\n",
    "n = 128\n",
    "z = np.arange(128*128,dtype=complex)\n",
    "z.reshape(128,128)\n",
    "num = np.zeros(128*128)\n",
    "num.reshape(128,128)\n",
    "\n"
   ]
  },
  {
   "cell_type": "code",
   "execution_count": 31,
   "metadata": {},
   "outputs": [],
   "source": [
    "\n",
    "\n",
    "def iteration(num,z,range_low,range_high,reso_x,reso_y,c,maximum=1000):\n",
    "    z_x = np.linspace(range_low,range_high,reso_x)\n",
    "    z_y = np.linspace(range_low,range_high,reso_y)\n",
    "    for i in range(0,128*128):\n",
    "        \n",
    "        z[i].imag = z_y[i]\n",
    "        z[i].real = z_x[i]\n",
    "    \n",
    "    for i in range(0,128):\n",
    "\n",
    "        while(abs(z[i].real**2+z[i].imag**2)<=maximum):\n",
    "            z[i] = z[i]**2+c\n",
    "            num[i] = num[i]+1\n",
    "    return num\n",
    "    \n",
    "\n",
    "            "
   ]
  },
  {
   "cell_type": "code",
   "execution_count": 32,
   "metadata": {},
   "outputs": [
    {
     "ename": "AttributeError",
     "evalue": "attribute 'imag' of 'numpy.generic' objects is not writable",
     "output_type": "error",
     "traceback": [
      "\u001b[0;31m---------------------------------------------------------------------------\u001b[0m",
      "\u001b[0;31mAttributeError\u001b[0m                            Traceback (most recent call last)",
      "Cell \u001b[0;32mIn[32], line 1\u001b[0m\n\u001b[0;32m----> 1\u001b[0m num1 \u001b[39m=\u001b[39m iteration(num\u001b[39m=\u001b[39;49mnum, z\u001b[39m=\u001b[39;49mz, range_high\u001b[39m=\u001b[39;49m \u001b[39m2\u001b[39;49m,range_low\u001b[39m=\u001b[39;49m\u001b[39m-\u001b[39;49m\u001b[39m2\u001b[39;49m,reso_x\u001b[39m=\u001b[39;49m\u001b[39m128\u001b[39;49m,reso_y\u001b[39m=\u001b[39;49m\u001b[39m128\u001b[39;49m,c\u001b[39m=\u001b[39;49m\u001b[39m1\u001b[39;49m\u001b[39m+\u001b[39;49m\u001b[39m2\u001b[39;49mj)\n",
      "Cell \u001b[0;32mIn[31], line 6\u001b[0m, in \u001b[0;36miteration\u001b[0;34m(num, z, range_low, range_high, reso_x, reso_y, c, maximum)\u001b[0m\n\u001b[1;32m      3\u001b[0m z_y \u001b[39m=\u001b[39m np\u001b[39m.\u001b[39mlinspace(range_low,range_high,reso_y)\n\u001b[1;32m      4\u001b[0m \u001b[39mfor\u001b[39;00m i \u001b[39min\u001b[39;00m \u001b[39mrange\u001b[39m(\u001b[39m0\u001b[39m,\u001b[39m128\u001b[39m\u001b[39m*\u001b[39m\u001b[39m128\u001b[39m):\n\u001b[0;32m----> 6\u001b[0m     z[i]\u001b[39m.\u001b[39;49mimag \u001b[39m=\u001b[39m z_y[i]\n\u001b[1;32m      7\u001b[0m     z[i]\u001b[39m.\u001b[39mreal \u001b[39m=\u001b[39m z_x[i]\n\u001b[1;32m      9\u001b[0m \u001b[39mfor\u001b[39;00m i \u001b[39min\u001b[39;00m \u001b[39mrange\u001b[39m(\u001b[39m0\u001b[39m,\u001b[39m128\u001b[39m):\n",
      "\u001b[0;31mAttributeError\u001b[0m: attribute 'imag' of 'numpy.generic' objects is not writable"
     ]
    }
   ],
   "source": [
    "num1 = iteration(num=num, z=z, range_high= 2,range_low=-2,reso_x=128,reso_y=128,c=1+2j)\n"
   ]
  }
 ],
 "metadata": {
  "kernelspec": {
   "display_name": "lab",
   "language": "python",
   "name": "python3"
  },
  "language_info": {
   "codemirror_mode": {
    "name": "ipython",
    "version": 3
   },
   "file_extension": ".py",
   "mimetype": "text/x-python",
   "name": "python",
   "nbconvert_exporter": "python",
   "pygments_lexer": "ipython3",
   "version": "3.10.8"
  },
  "orig_nbformat": 4
 },
 "nbformat": 4,
 "nbformat_minor": 2
}
