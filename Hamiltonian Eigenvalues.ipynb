{
 "cells": [
  {
   "cell_type": "code",
   "execution_count": null,
   "id": "278da4e7-d887-46d1-abaa-a46c5d005fd1",
   "metadata": {},
   "outputs": [],
   "source": [
    "# Hamiltonian Eigenvalues"
   ]
  },
  {
   "cell_type": "code",
   "execution_count": 39,
   "id": "bf8a1661-aacf-476b-a226-76fc5069a6de",
   "metadata": {},
   "outputs": [],
   "source": [
    "# Import libraries\n",
    "import numpy as np\n",
    "from matplotlib import pyplot as plt\n",
    "from scipy.stats import norm"
   ]
  },
  {
   "cell_type": "markdown",
   "id": "f5acda44-5065-43ff-96f7-dc08617aa1e9",
   "metadata": {},
   "source": [
    "$V(x) = -V_0 e^{-\\alpha x^2}$"
   ]
  },
  {
   "cell_type": "code",
   "execution_count": 59,
   "id": "22bf8584-0434-45c6-bbfd-deb4b339f824",
   "metadata": {},
   "outputs": [],
   "source": [
    "# declarations\n",
    "n = 5\n",
    "L = 5\n",
    "V_0 = -5\n",
    "alpha = 1\n",
    "x = np.linspace(-L, L, n)\n",
    "dx = (2*L)/n\n",
    "V = np.zeros(n)\n",
    "h = np.zeros((n, n))\n",
    "\n",
    "# functions\n",
    "def potential(x):\n",
    "    return -V_0*(np.e**(-alpha*(x**2)))\n",
    "\n",
    "# plot potential\n",
    "for i in range(0, n):\n",
    "    V[i] = potential(x[i])"
   ]
  },
  {
   "cell_type": "code",
   "execution_count": 60,
   "id": "64e67f80-a2ef-4af4-82b8-2fac4bc70735",
   "metadata": {},
   "outputs": [
    {
     "name": "stdout",
     "output_type": "stream",
     "text": [
      "First 5 Eigenvalues:\n",
      "5.149985531309217\n",
      "0.3798727142000958\n",
      "0.36682888272904307\n",
      "-0.1321621432876854\n",
      "-0.12022044344951774\n",
      "First 5 Eigenvectors:\n",
      "[-0.00247993  0.49515125  0.50755988  0.4923178  -0.50480218]\n",
      "[ 0.04984644 -0.50480218 -0.49097055  0.50642201 -0.49515125]\n",
      "[-9.97506073e-01 -5.10589496e-16 -5.15923599e-02  4.81649598e-02\n",
      " -4.36855410e-17]\n",
      "[ 0.04984644  0.50480218 -0.49097055  0.50642201  0.49515125]\n",
      "[-0.00247993 -0.49515125  0.50755988  0.4923178   0.50480218]\n",
      "First 5 Probability Densities:\n",
      "0.9999998697467227\n",
      "0.6479800486633204\n",
      "0.6431266690284673\n",
      "0.4474280218430898\n",
      "0.45215426184679813\n"
     ]
    }
   ],
   "source": [
    "# generate matrix\n",
    "for i in range(0, n):\n",
    "    h[i][i] = (1/(2*(dx**2)))+V[i]\n",
    "    if i != n-1:\n",
    "        h[i][i+1] = -1/(dx**2)\n",
    "    if i != 0:\n",
    "        h[i][i-1] = -1/(dx**2)\n",
    "\n",
    "# find eigenvalues and eigenvectors\n",
    "h_eig = np.linalg.eig(h)\n",
    "\n",
    "# display some results\n",
    "print(\"First 5 Eigenvalues:\")\n",
    "for i in range(0, 5):\n",
    "    print(h_eig[0][i])\n",
    "    \n",
    "print(\"First 5 Eigenvectors:\")\n",
    "for i in range(0, 5):\n",
    "    print(h_eig[1][i])\n",
    "\n",
    "print(\"First 5 Probability Densities:\")\n",
    "for i in range(0, 5):\n",
    "    print(norm.cdf(h_eig[0][i]))"
   ]
  },
  {
   "cell_type": "code",
   "execution_count": null,
   "id": "fee106bc-a642-4fc2-a7cb-92fea9ba8390",
   "metadata": {},
   "outputs": [],
   "source": []
  }
 ],
 "metadata": {
  "kernelspec": {
   "display_name": "Python 3 (ipykernel)",
   "language": "python",
   "name": "python3"
  },
  "language_info": {
   "codemirror_mode": {
    "name": "ipython",
    "version": 3
   },
   "file_extension": ".py",
   "mimetype": "text/x-python",
   "name": "python",
   "nbconvert_exporter": "python",
   "pygments_lexer": "ipython3",
   "version": "3.11.5"
  }
 },
 "nbformat": 4,
 "nbformat_minor": 5
}
