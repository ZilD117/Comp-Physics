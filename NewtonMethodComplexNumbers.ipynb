{
 "cells": [
  {
   "cell_type": "code",
   "execution_count": 8,
   "metadata": {},
   "outputs": [],
   "source": [
    "# Newton method with complex numbers\n",
    "\n",
    "# This is totally inefficient and I do not care"
   ]
  },
  {
   "cell_type": "code",
   "execution_count": 117,
   "metadata": {},
   "outputs": [],
   "source": [
    "import numpy as np, matplotlib.pylab as plt\n",
    "\n",
    "# Initial conditions\n",
    "n = 50\n",
    "xmin = complex(-6, -6)\n",
    "xmax = complex(6, 6)\n",
    "tolerance = 1e-8\n",
    "stepCount = 1\n",
    "xreal = np.zeros(n*n)\n",
    "ximag = np.zeros(n*n)\n",
    "\n",
    "# Desired function\n",
    "def f(z):\n",
    "    return (z**2 - (1 + 3j)**2) * (z**2 - (5 + 1j)**2) * (z**2 - (3 - 2j)**2)\n",
    "\n",
    "# Derivative of desired function\n",
    "def df(z):\n",
    "    return 6*(z**5) - (84 + 16j) * (z**3) + (40 - 96j) * z\n",
    "\n",
    "# Determines whether x is within tolerance\n",
    "# of the actual root.\n",
    "def isInTolerance(xreal, ximag, tolerance):\n",
    "    x = complex(xreal, ximag)\n",
    "    return np.sqrt((f(x).real**2) + (f(x).imag**2)) <= tolerance\n",
    "\n",
    "# Finds the next x value based on the current\n",
    "def nextx (xreal, ximag):\n",
    "    x = complex(xreal, ximag)\n",
    "    #print(x)\n",
    "    if df(x) != 0:\n",
    "        return x - (f(x)/df(x))\n",
    "    else:\n",
    "        return x - (f(x)/((df(x))+tolerance)) # avoid division by zero"
   ]
  },
  {
   "cell_type": "code",
   "execution_count": 118,
   "metadata": {},
   "outputs": [],
   "source": [
    "# Create lines along imaginary and real axes\n",
    "# These are the dimensions of the rectangular region to examine\n",
    "dxreal = np.linspace(xmin.real, xmax.real, n)\n",
    "dximag = np.linspace(xmin.imag, xmax.imag, n)\n",
    "\n",
    "# Create evenly spaced points across surface of rectangular region to test\n",
    "for i in range (0, n):\n",
    "    for j in range (0, n):\n",
    "        xreal[n*i + j] = dxreal[i]\n",
    "        ximag[n*i + j] = dximag[j]"
   ]
  },
  {
   "cell_type": "code",
   "execution_count": null,
   "metadata": {},
   "outputs": [
    {
     "name": "stdout",
     "output_type": "stream",
     "text": [
      "Root is  3.0  +  -2.0 i\n",
      "Found root in  13  steps.\n",
      "\n",
      "Root is  -1.0  +  -3.0 i\n",
      "Found root in  19  steps.\n",
      "\n",
      "Root is  1.0  +  3.0 i\n",
      "Found root in  17  steps.\n",
      "\n",
      "Root is  -3.0  +  2.0 i\n",
      "Found root in  15  steps.\n",
      "\n",
      "Root is  -5.0  +  -1.0 i\n",
      "Found root in  36  steps.\n",
      "\n",
      "Root is  5.0  +  1.0 i\n",
      "Found root in  16  steps.\n",
      "\n"
     ]
    }
   ],
   "source": [
    "# Computational loop\n",
    "for i in range (0, len(xreal)):\n",
    "    stepCount = 1\n",
    "\n",
    "    # Find new complex number until f(x) is within tolerance\n",
    "    while (not isInTolerance(xreal[i], ximag[i], tolerance)):\n",
    "        xcomplex = nextx(xreal[i], ximag[i])\n",
    "        xreal[i] = xcomplex.real\n",
    "        ximag[i] = xcomplex.imag\n",
    "        stepCount += 1\n",
    "\n",
    "    isUnique = True\n",
    "    \n",
    "    # If root has not been found print results\n",
    "    if (xreal[i] < xmax.real and xreal[i] > xmin.real) and (ximag[i] < xmax.imag and ximag[i] > xmin.imag):\n",
    "        for j in range(i): # Compare previously found roots to current root\n",
    "            if (abs(xreal[i] - xreal[j]) <= tolerance) and (abs(ximag[i] - ximag[j]) <= tolerance):\n",
    "                # Root has been found\n",
    "                isUnique = False\n",
    "\n",
    "        if isUnique:\n",
    "            # Root has not been found\n",
    "            print(\"Root is \", round(xreal[i], 3), \" + \", round(ximag[i], 3), \"i\")\n",
    "            print(\"Found root in \", stepCount, \" steps.\")\n",
    "            print()"
   ]
  },
  {
   "cell_type": "code",
   "execution_count": null,
   "metadata": {},
   "outputs": [],
   "source": []
  }
 ],
 "metadata": {
  "kernelspec": {
   "display_name": "Python 3 (ipykernel)",
   "language": "python",
   "name": "python3"
  },
  "language_info": {
   "codemirror_mode": {
    "name": "ipython",
    "version": 3
   },
   "file_extension": ".py",
   "mimetype": "text/x-python",
   "name": "python",
   "nbconvert_exporter": "python",
   "pygments_lexer": "ipython3",
   "version": "3.11.5"
  }
 },
 "nbformat": 4,
 "nbformat_minor": 4
}
