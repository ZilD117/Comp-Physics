{
 "cells": [
  {
   "cell_type": "code",
   "execution_count": 8,
   "metadata": {},
   "outputs": [],
   "source": [
    "# Newton method with complex numbers\n",
    "\n",
    "# This is totally inefficient and I do not care"
   ]
  },
  {
   "cell_type": "code",
   "execution_count": 62,
   "metadata": {},
   "outputs": [],
   "source": [
    "import numpy as np, matplotlib.pylab as plt\n",
    "\n",
    "# Initial conditions\n",
    "n = 100\n",
    "xmin = complex(-6, -6)\n",
    "xmax = complex(6, 6)\n",
    "tolerance = 1e-8\n",
    "stepCount = 1\n",
    "xreal = np.zeros(n*n)\n",
    "ximag = np.zeros(n*n)\n",
    "\n",
    "# Desired function\n",
    "def f(z):\n",
    "    return (z**2 - (1 + 3j)**2) * (z**2 - (5 + 1j)**2) * (z**2 - (3 - 2j)**2)\n",
    "\n",
    "def df(z):\n",
    "    return 6*(z**5) - (84 + 16j) * (z**3) + (40 - 96j) * z\n",
    "\n",
    "#def absComplex(xreal, ximag):\n",
    "    #x = complex(xreal, ximag)\n",
    "    #return np.sqrt((x.real**2) + (x.imag**2))\n",
    "\n",
    "# Determines whether x is within tolerance\n",
    "# of the actual root.\n",
    "def isInTolerance(xreal, ximag, tolerance):\n",
    "    x = complex(xreal, ximag)\n",
    "    #print(np.sqrt((x.real**2) + (x.imag**2)))\n",
    "    return np.sqrt((f(x).real**2) + (f(x).imag**2)) <= tolerance\n",
    "\n",
    "# Finds the next x value based on the current\n",
    "def nextx (xreal, ximag):\n",
    "    x = complex(xreal, ximag)\n",
    "    #print(x)\n",
    "    if df(x) != 0:\n",
    "        return x - (f(x)/df(x))\n",
    "    else:\n",
    "        return x - (f(x)/((df(x))+tolerance))"
   ]
  },
  {
   "cell_type": "code",
   "execution_count": 63,
   "metadata": {},
   "outputs": [],
   "source": [
    "# Determine initial x values to test\n",
    "#dxreal = xmax.real - xmin.real / n\n",
    "#dximag = xmax.imag - xmin.imag / n\n",
    "#print(\"\", xmax.real, \"-\", xmin.real, \"/\", n, \"=\", dxreal)\n",
    "#print(dxreal)\n",
    "#print(dximag)\n",
    "\n",
    "dxreal = np.linspace(xmin.real, xmax.real, n)\n",
    "dximag = np.linspace(xmin.imag, xmax.imag, n)\n",
    "\n",
    "\n",
    "for i in range (0, n):\n",
    "    for j in range (0, n):\n",
    "        #xreal[n*i + j] = xmin.real + i*dxreal\n",
    "        #ximag[n*i + j] = xmax.imag + j*dximag\n",
    "        xreal[n*i + j] = dxreal[i]\n",
    "        ximag[n*i + j] = dximag[j]"
   ]
  },
  {
   "cell_type": "code",
   "execution_count": null,
   "metadata": {},
   "outputs": [
    {
     "name": "stdout",
     "output_type": "stream",
     "text": [
      "Root is  3.0  +  -2.0 i\n",
      "Found root in  13  steps.\n",
      "\n",
      "Root is  1.0  +  3.0 i\n",
      "Found root in  15  steps.\n",
      "\n",
      "Root is  5.0  +  1.0 i\n",
      "Found root in  21  steps.\n",
      "\n"
     ]
    }
   ],
   "source": [
    "isUnique = True\n",
    "\n",
    "for i in range (0, len(xreal)):\n",
    "    stepCount = 1\n",
    "\n",
    "    # Find new x lines until f(x) is within tolerance\n",
    "    while (not isInTolerance(xreal[i], ximag[i], tolerance)):\n",
    "        xcomplex = nextx(xreal[i], ximag[i])\n",
    "        xreal[i] = xcomplex.real\n",
    "        ximag[i] = xcomplex.imag\n",
    "        stepCount += 1\n",
    "    \n",
    "    # If root has not been found print results\n",
    "    if (xreal[i] < xmax.real and xreal[i] > xmin.real) and (ximag[i] < xmax.imag and ximag[i] > xmin.imag):\n",
    "        isUnique = True\n",
    "        for j in range(i):\n",
    "            if (xreal[i] - xreal[j] <= tolerance) and (ximag[i] - ximag[j] <= tolerance):\n",
    "                isUnique = False\n",
    "\n",
    "        if isUnique:\n",
    "            print(\"Root is \", xreal[i], \" + \", ximag[i], \"i\")\n",
    "            print(\"Found root in \", stepCount, \" steps.\")\n",
    "            print()"
   ]
  },
  {
   "cell_type": "code",
   "execution_count": null,
   "metadata": {},
   "outputs": [],
   "source": [
    "# Plot function and its roots\n",
    "\n",
    "# Plot function\n",
    "x_f = np.linspace(xmin, xmax, 1000)\n",
    "y_f = f(x_f)\n",
    "plt.plot(x_f, y_f)\n",
    "\n",
    "# Plot roots\n",
    "for i in range(0, len(x)):\n",
    "    if not (abs(x[i] - x[i-1]) < tolerance): # plot unique roots\n",
    "        plt.scatter(x[i], f(x[i]))\n",
    "        \n",
    "plt.show()"
   ]
  },
  {
   "cell_type": "code",
   "execution_count": null,
   "metadata": {},
   "outputs": [],
   "source": []
  }
 ],
 "metadata": {
  "kernelspec": {
   "display_name": "Python 3 (ipykernel)",
   "language": "python",
   "name": "python3"
  },
  "language_info": {
   "codemirror_mode": {
    "name": "ipython",
    "version": 3
   },
   "file_extension": ".py",
   "mimetype": "text/x-python",
   "name": "python",
   "nbconvert_exporter": "python",
   "pygments_lexer": "ipython3",
   "version": "3.11.5"
  }
 },
 "nbformat": 4,
 "nbformat_minor": 4
}
