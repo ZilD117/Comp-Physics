{
 "cells": [
  {
   "cell_type": "markdown",
   "id": "361cd50f-fa19-4f01-a2bd-b43f63f8e65f",
   "metadata": {},
   "source": [
    "### Simulated Annealing ###"
   ]
  },
  {
   "cell_type": "markdown",
   "id": "b033ef2e-65f0-4ca5-8bbc-aaace257672c",
   "metadata": {},
   "source": [
    "$$\n",
    "f(x)=x^{3}-60 x^{2}+900 x+100\n",
    "$$\n",
    "- A solution $x$ is represented as a string of 5 bits.\n",
    "- The neighborhood consists in flipping randomly a bit.\n",
    "- The initial solution is $10011(x=19, f(x)=2399$ )\n",
    "- Testing two scenarios:\n",
    "- First scenario: initial temperature $\\mathrm{T}_{0}$ equal to 500 .\n",
    "- Second scenario: initial temperature $\\mathrm{T}_{0}$ equal to 100 .\n",
    "- Cooling: $\\mathrm{T}=0.9 . \\mathrm{T}$"
   ]
  },
  {
   "cell_type": "code",
   "execution_count": 16,
   "id": "33b4e565-a6e5-4945-8970-85cebfff4010",
   "metadata": {},
   "outputs": [],
   "source": [
    "import numpy as np\n",
    "import matplotlib.pyplot as plt\n",
    "import random"
   ]
  },
  {
   "cell_type": "code",
   "execution_count": 281,
   "id": "82ad836c-2fd4-4020-8caa-1dda0a10201e",
   "metadata": {
    "jupyter": {
     "source_hidden": true
    }
   },
   "outputs": [],
   "source": [
    "### SIMULATED ANNEALING ALGORITHM V1 ###\n",
    "def simulated_annealing(objective, bounds, n_iterations, step_size, temp):\n",
    "\t# generate an initial point\n",
    "\t#best = bounds[:, 0] + rand(len(bounds)) * (bounds[:, 1] - bounds[:, 0])\n",
    "    best = bounds[:, 0] + random.random() * (bounds[:, 1] - bounds[:, 0])\n",
    "\t# evaluate the initial point\n",
    "    best_eval = objective(best)\n",
    "\t# current working solution\n",
    "    curr, curr_eval = best, best_eval\n",
    "\t# run the algorithm\n",
    "    for i in range(n_iterations):\n",
    "        #print(i)\n",
    "\t\t# take a step\n",
    "\t\t#candidate = curr + randn(len(bounds)) * step_size\n",
    "        candidate = curr + random.random() * step_size\n",
    "\t\t# evaluate candidate point\n",
    "        candidate_eval = objective(candidate)\n",
    "\t\t# check for new best solution\n",
    "        if candidate_eval[1] < best_eval[1]:\n",
    "\t\t\t# store new best point\n",
    "            best, best_eval = candidate, candidate_eval\n",
    "\t\t\t# report progress\n",
    "            #print('>%d f(%s) = %.5f' % (i, best, best_eval))\n",
    "\t\t# difference between candidate and current point evaluation\n",
    "        diff = candidate_eval - curr_eval\n",
    "\t\t# calculate temperature for current epoch\n",
    "        #t = temp / float(i + 1)\n",
    "        temp *= 0.9\n",
    "\t\t# calculate metropolis acceptance criterion\n",
    "        metropolis = np.exp(-diff / temp)\n",
    "\t\t# check if we should keep the new point\n",
    "        if diff[1] < 0 or random.random() < metropolis[1]:\n",
    "\t\t\t# store the new current point\n",
    "            curr, curr_eval = candidate, candidate_eval\n",
    "    return [best, best_eval]"
   ]
  },
  {
   "cell_type": "code",
   "execution_count": 429,
   "id": "6bcef429-50ae-4931-933d-1723611521d3",
   "metadata": {},
   "outputs": [],
   "source": [
    "### SIMULATED ANNEALING ALGORITHM V2 ###\n",
    "\n",
    "def simulated_annealing(objective, bounds, n_iterations, step_size, temp):\n",
    "    # generate an initial point\n",
    "    best = bounds[:, 0] + random.random() * (bounds[:, 1] - bounds[:, 0])\n",
    "    # evaluate the initial point\n",
    "    best_eval = objective(best)\n",
    "    # current working solution\n",
    "    curr, curr_eval = best, best_eval\n",
    "    # run the algorithm\n",
    "    for i in range(n_iterations):\n",
    "        # take a step\n",
    "        candidate = curr + random.random() * step_size\n",
    "        # check if candidate is within bounds\n",
    "        for i in range(len(bounds)):\n",
    "            if candidate[i] < bounds[i, 0]:  # if below lower bound\n",
    "                candidate[i] = bounds[i, 0]\n",
    "            elif candidate[i] > bounds[i, 1]:  # if above upper bound\n",
    "                candidate[i] = bounds[i, 1]\n",
    "        # evaluate candidate point\n",
    "        candidate_eval = objective(candidate)\n",
    "        # check for new best solution\n",
    "        if candidate_eval[0] > best_eval[0]:  # Change here for maximization\n",
    "            # store new best point\n",
    "            best, best_eval = candidate, candidate_eval\n",
    "        # difference between candidate and current point evaluation\n",
    "        diff = candidate_eval - curr_eval\n",
    "        # calculate temperature for current epoch\n",
    "        temp *= 0.9\n",
    "        # calculate metropolis acceptance criterion\n",
    "        metropolis = np.exp(-diff / temp)  # Change here for maximization\n",
    "        # check if we should keep the new point\n",
    "        if diff[0] > 0 or random.random() < metropolis[0]:  # Change here for maximization\n",
    "            # store the new current point\n",
    "            curr, curr_eval = candidate, candidate_eval\n",
    "    return [best, best_eval]\n"
   ]
  },
  {
   "cell_type": "code",
   "execution_count": 424,
   "id": "5e0af92f-732b-4e48-bb05-6a11ff701916",
   "metadata": {
    "editable": true,
    "slideshow": {
     "slide_type": ""
    },
    "tags": []
   },
   "outputs": [
    {
     "name": "stdout",
     "output_type": "stream",
     "text": [
      "Best:  [5.05160801 0.        ]\n",
      "Best evaluation:  [3244.23329053  100.        ]\n"
     ]
    }
   ],
   "source": [
    "### RUN ONCE ###\n",
    "\n",
    "# variables\n",
    "n_iterations = 100\n",
    "step_size = 0.01\n",
    "temp = 500\n",
    "\n",
    "# element 0 is x bounds, element 1 is y bounds\n",
    "# x bound is limited to 5 bits\n",
    "bounds = np.array([[0, 31], [0, 0]])\n",
    "\n",
    "# function to maximize\n",
    "func = lambda x: x**3 - 60 * x**2 + 900 * x + 100\n",
    "\n",
    "result = simulated_annealing(func, bounds, n_iterations, step_size, temp)\n",
    "\n",
    "print(\"Best: \", result[0])\n",
    "print(\"Best evaluation: \", result[1])"
   ]
  },
  {
   "cell_type": "code",
   "execution_count": 430,
   "id": "16f027d9-8599-485f-85c1-48b2b214b19d",
   "metadata": {},
   "outputs": [
    {
     "name": "stdout",
     "output_type": "stream",
     "text": [
      "T_0 =  500  average max: ( 10.644300959093252 ,  4087.8137528380776 )\n",
      "T_0 =  100  average max: ( 10.644300959093252 ,  4087.8137528380776 )\n"
     ]
    },
    {
     "data": {
      "image/png": "[encoded data removed]",
      "text/plain": [
       "<Figure size 640x480 with 1 Axes>"
      ]
     },
     "metadata": {},
     "output_type": "display_data"
    }
   ],
   "source": [
    "### RUN AND AVERAGE ###\n",
    "\n",
    "# variables\n",
    "n_iterations = int(100)\n",
    "step_size = 5 # max step size\n",
    "temp1 = 500\n",
    "temp2 = 100\n",
    "n_tests = 200\n",
    "\n",
    "bounds = np.array([[0, 31], [0, 0]])\n",
    "func = lambda x: x**3 - 60 * x**2 + 900 * x + 100\n",
    "\n",
    "sum1 = 0\n",
    "for i in range(n_tests):\n",
    "    result = simulated_annealing(func, bounds, n_iterations, step_size, temp1)[0]\n",
    "    sum1 += result[0]\n",
    "\n",
    "avg1 = sum1 / n_tests\n",
    "\n",
    "sum2 = 0\n",
    "for i in range(n_tests):\n",
    "    result = simulated_annealing(func, bounds, n_iterations, step_size, temp2)[0]\n",
    "    sum2 += result[0]\n",
    "\n",
    "avg2 = sum2 / n_tests\n",
    "\n",
    "print(\"T_0 = \", temp1, \" average max: (\", avg1, \", \", func(avg1), \")\")\n",
    "print(\"T_0 = \", temp2, \" average max: (\", avg2, \", \", func(avg2), \")\")\n",
    "\n",
    "x = np.mgrid[0:31:50j]\n",
    "plt.plot(x, func(x))\n",
    "plt.plot(avg1, func(avg1), 'ro', label=\"$T_1$\")\n",
    "plt.plot(avg2, func(avg2), 'go', label=\"$T_2$\")\n",
    "plt.legend()\n",
    "plt.show()"
   ]
  },
  {
   "cell_type": "code",
   "execution_count": null,
   "id": "4634591a-4e0b-4e2a-b0ba-e70fa00a5f2a",
   "metadata": {},
   "outputs": [],
   "source": []
  }
 ],
 "metadata": {
  "kernelspec": {
   "display_name": "Python 3 (ipykernel)",
   "language": "python",
   "name": "python3"
  },
  "language_info": {
   "codemirror_mode": {
    "name": "ipython",
    "version": 3
   },
   "file_extension": ".py",
   "mimetype": "text/x-python",
   "name": "python",
   "nbconvert_exporter": "python",
   "pygments_lexer": "ipython3",
   "version": "3.11.5"
  }
 },
 "nbformat": 4,
 "nbformat_minor": 5
}
