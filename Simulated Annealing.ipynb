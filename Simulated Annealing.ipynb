{
 "cells": [
  {
   "cell_type": "markdown",
   "id": "361cd50f-fa19-4f01-a2bd-b43f63f8e65f",
   "metadata": {},
   "source": [
    "### Simulated Annealing ###"
   ]
  },
  {
   "cell_type": "markdown",
   "id": "b033ef2e-65f0-4ca5-8bbc-aaace257672c",
   "metadata": {},
   "source": [
    "$$\n",
    "f(x)=x^{3}-60 x^{2}+900 x+100\n",
    "$$\n",
    "- A solution $x$ is represented as a string of 5 bits.\n",
    "- The neighborhood consists in flipping randomly a bit.\n",
    "- The initial solution is $10011(x=19, f(x)=2399$ )\n",
    "- Testing two sceneries:\n",
    "- First scenario: initial temperature $\\mathrm{T}_{0}$ equal to 500 .\n",
    "- Second scenario: initial temperature $\\mathrm{T}_{0}$ equal to 100 .\n",
    "- Cooling: $\\mathrm{T}=0.9 . \\mathrm{T}$"
   ]
  },
  {
   "cell_type": "code",
   "execution_count": 21,
   "id": "33b4e565-a6e5-4945-8970-85cebfff4010",
   "metadata": {},
   "outputs": [],
   "source": [
    "import numpy as np"
   ]
  },
  {
   "cell_type": "code",
   "execution_count": 22,
   "id": "82ad836c-2fd4-4020-8caa-1dda0a10201e",
   "metadata": {},
   "outputs": [],
   "source": [
    "# simulated annealing algorithm\n",
    "def simulated_annealing(objective, bounds, n_iterations, step_size, temp):\n",
    "\t# generate an initial point\n",
    "\tbest = bounds[:, 0] + rand(len(bounds)) * (bounds[:, 1] - bounds[:, 0])\n",
    "\t# evaluate the initial point\n",
    "\tbest_eval = objective(best)\n",
    "\t# current working solution\n",
    "\tcurr, curr_eval = best, best_eval\n",
    "\t# run the algorithm\n",
    "\tfor i in range(n_iterations):\n",
    "\t\t# take a step\n",
    "\t\tcandidate = curr + randn(len(bounds)) * step_size\n",
    "\t\t# evaluate candidate point\n",
    "\t\tcandidate_eval = objective(candidate)\n",
    "\t\t# check for new best solution\n",
    "\t\tif candidate_eval < best_eval:\n",
    "\t\t\t# store new best point\n",
    "\t\t\tbest, best_eval = candidate, candidate_eval\n",
    "\t\t\t# report progress\n",
    "\t\t\tprint('>%d f(%s) = %.5f' % (i, best, best_eval))\n",
    "\t\t# difference between candidate and current point evaluation\n",
    "\t\tdiff = candidate_eval - curr_eval\n",
    "\t\t# calculate temperature for current epoch\n",
    "\t\tt = temp / float(i + 1)\n",
    "\t\t# calculate metropolis acceptance criterion\n",
    "\t\tmetropolis = exp(-diff / t)\n",
    "\t\t# check if we should keep the new point\n",
    "\t\tif diff < 0 or rand() < metropolis:\n",
    "\t\t\t# store the new current point\n",
    "\t\t\tcurr, curr_eval = candidate, candidate_eval\n",
    "\treturn [best, best_eval]"
   ]
  },
  {
   "cell_type": "code",
   "execution_count": 23,
   "id": "5e0af92f-732b-4e48-bb05-6a11ff701916",
   "metadata": {},
   "outputs": [
    {
     "ename": "TypeError",
     "evalue": "'module' object is not callable",
     "output_type": "error",
     "traceback": [
      "\u001b[1;31m---------------------------------------------------------------------------\u001b[0m",
      "\u001b[1;31mTypeError\u001b[0m                                 Traceback (most recent call last)",
      "Cell \u001b[1;32mIn[23], line 10\u001b[0m\n\u001b[0;32m      7\u001b[0m \u001b[38;5;66;03m# function to maximize\u001b[39;00m\n\u001b[0;32m      8\u001b[0m func \u001b[38;5;241m=\u001b[39m \u001b[38;5;28;01mlambda\u001b[39;00m x: x\u001b[38;5;241m*\u001b[39m\u001b[38;5;241m*\u001b[39m\u001b[38;5;241m3\u001b[39m \u001b[38;5;241m-\u001b[39m \u001b[38;5;241m60\u001b[39m \u001b[38;5;241m*\u001b[39m x\u001b[38;5;241m*\u001b[39m\u001b[38;5;241m*\u001b[39m\u001b[38;5;241m2\u001b[39m \u001b[38;5;241m+\u001b[39m \u001b[38;5;241m900\u001b[39m \u001b[38;5;241m*\u001b[39m x \u001b[38;5;241m+\u001b[39m \u001b[38;5;241m100\u001b[39m\n\u001b[1;32m---> 10\u001b[0m result \u001b[38;5;241m=\u001b[39m \u001b[43msimulated_annealing\u001b[49m\u001b[43m(\u001b[49m\u001b[43mfunc\u001b[49m\u001b[43m,\u001b[49m\u001b[43m \u001b[49m\u001b[43mbounds\u001b[49m\u001b[43m,\u001b[49m\u001b[43m \u001b[49m\u001b[43mn_iterations\u001b[49m\u001b[43m,\u001b[49m\u001b[43m \u001b[49m\u001b[43mstep_size\u001b[49m\u001b[43m,\u001b[49m\u001b[43m \u001b[49m\u001b[43mtemp\u001b[49m\u001b[43m)\u001b[49m\n\u001b[0;32m     12\u001b[0m \u001b[38;5;28mprint\u001b[39m(result)\n",
      "Cell \u001b[1;32mIn[22], line 4\u001b[0m, in \u001b[0;36msimulated_annealing\u001b[1;34m(objective, bounds, n_iterations, step_size, temp)\u001b[0m\n\u001b[0;32m      2\u001b[0m \u001b[38;5;28;01mdef\u001b[39;00m \u001b[38;5;21msimulated_annealing\u001b[39m(objective, bounds, n_iterations, step_size, temp):\n\u001b[0;32m      3\u001b[0m \t\u001b[38;5;66;03m# generate an initial point\u001b[39;00m\n\u001b[1;32m----> 4\u001b[0m \tbest \u001b[38;5;241m=\u001b[39m bounds[:, \u001b[38;5;241m0\u001b[39m] \u001b[38;5;241m+\u001b[39m \u001b[43mrand\u001b[49m\u001b[43m(\u001b[49m\u001b[38;5;28;43mlen\u001b[39;49m\u001b[43m(\u001b[49m\u001b[43mbounds\u001b[49m\u001b[43m)\u001b[49m\u001b[43m)\u001b[49m \u001b[38;5;241m*\u001b[39m (bounds[:, \u001b[38;5;241m1\u001b[39m] \u001b[38;5;241m-\u001b[39m bounds[:, \u001b[38;5;241m0\u001b[39m])\n\u001b[0;32m      5\u001b[0m \t\u001b[38;5;66;03m# evaluate the initial point\u001b[39;00m\n\u001b[0;32m      6\u001b[0m \tbest_eval \u001b[38;5;241m=\u001b[39m objective(best)\n",
      "\u001b[1;31mTypeError\u001b[0m: 'module' object is not callable"
     ]
    }
   ],
   "source": [
    "# variables\n",
    "n_iterations = 10\n",
    "step_size = 0.1\n",
    "temp = 10\n",
    "# element 0 is x bounds, element 1 is y bounds\n",
    "bounds = np.array([[-1, 1], [-1, 1]])\n",
    "# function to maximize\n",
    "func = lambda x: x**3 - 60 * x**2 + 900 * x + 100\n",
    "\n",
    "result = simulated_annealing(func, bounds, n_iterations, step_size, temp)\n",
    "\n",
    "print(result)"
   ]
  }
 ],
 "metadata": {
  "kernelspec": {
   "display_name": "Python 3 (ipykernel)",
   "language": "python",
   "name": "python3"
  },
  "language_info": {
   "codemirror_mode": {
    "name": "ipython",
    "version": 3
   },
   "file_extension": ".py",
   "mimetype": "text/x-python",
   "name": "python",
   "nbconvert_exporter": "python",
   "pygments_lexer": "ipython3",
   "version": "3.11.5"
  }
 },
 "nbformat": 4,
 "nbformat_minor": 5
}
